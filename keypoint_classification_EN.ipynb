{
  "nbformat": 4,
  "nbformat_minor": 0,
  "metadata": {
    "kernelspec": {
      "display_name": "Python 3",
      "language": "python",
      "name": "python3"
    },
    "language_info": {
      "codemirror_mode": {
        "name": "ipython",
        "version": 3
      },
      "file_extension": ".py",
      "mimetype": "text/x-python",
      "name": "python",
      "nbconvert_exporter": "python",
      "pygments_lexer": "ipython3",
      "version": "3.8.5"
    },
    "colab": {
      "name": "keypoint_classification_EN.ipynb",
      "provenance": []
    },
    "accelerator": "GPU"
  },
  "cells": [
    {
      "cell_type": "code",
      "source": [
        "!git clone https://github.com/Dragon4926/sign-gpt.git\n",
        "%cd sign-gpt"
      ],
      "metadata": {
        "colab": {
          "base_uri": "https://localhost:8080/"
        },
        "id": "3qxxEejVIvXW",
        "outputId": "f87a2e6c-d3dc-4ba1-b9b0-e27c056d1d17"
      },
      "execution_count": 1,
      "outputs": [
        {
          "output_type": "stream",
          "name": "stdout",
          "text": [
            "fatal: destination path 'sign-gpt' already exists and is not an empty directory.\n",
            "/content/sign-gpt\n"
          ]
        }
      ]
    },
    {
      "cell_type": "code",
      "source": [
        "!pip install tensorflow==2.9"
      ],
      "metadata": {
        "id": "vV7wiXWgLNfF",
        "outputId": "572a57dc-38d1-4f7e-f088-a86cf3a91ca7",
        "colab": {
          "base_uri": "https://localhost:8080/"
        }
      },
      "execution_count": 2,
      "outputs": [
        {
          "output_type": "stream",
          "name": "stdout",
          "text": [
            "Requirement already satisfied: tensorflow==2.9 in /usr/local/lib/python3.10/dist-packages (2.9.0)\n",
            "Requirement already satisfied: absl-py>=1.0.0 in /usr/local/lib/python3.10/dist-packages (from tensorflow==2.9) (1.4.0)\n",
            "Requirement already satisfied: astunparse>=1.6.0 in /usr/local/lib/python3.10/dist-packages (from tensorflow==2.9) (1.6.3)\n",
            "Requirement already satisfied: flatbuffers<2,>=1.12 in /usr/local/lib/python3.10/dist-packages (from tensorflow==2.9) (1.12)\n",
            "Requirement already satisfied: gast<=0.4.0,>=0.2.1 in /usr/local/lib/python3.10/dist-packages (from tensorflow==2.9) (0.4.0)\n",
            "Requirement already satisfied: google-pasta>=0.1.1 in /usr/local/lib/python3.10/dist-packages (from tensorflow==2.9) (0.2.0)\n",
            "Requirement already satisfied: grpcio<2.0,>=1.24.3 in /usr/local/lib/python3.10/dist-packages (from tensorflow==2.9) (1.68.0)\n",
            "Requirement already satisfied: h5py>=2.9.0 in /usr/local/lib/python3.10/dist-packages (from tensorflow==2.9) (3.12.1)\n",
            "Requirement already satisfied: keras<2.10.0,>=2.9.0rc0 in /usr/local/lib/python3.10/dist-packages (from tensorflow==2.9) (2.9.0)\n",
            "Requirement already satisfied: keras-preprocessing>=1.1.1 in /usr/local/lib/python3.10/dist-packages (from tensorflow==2.9) (1.1.2)\n",
            "Requirement already satisfied: libclang>=13.0.0 in /usr/local/lib/python3.10/dist-packages (from tensorflow==2.9) (18.1.1)\n",
            "Requirement already satisfied: numpy>=1.20 in /usr/local/lib/python3.10/dist-packages (from tensorflow==2.9) (1.26.4)\n",
            "Requirement already satisfied: opt-einsum>=2.3.2 in /usr/local/lib/python3.10/dist-packages (from tensorflow==2.9) (3.4.0)\n",
            "Requirement already satisfied: packaging in /usr/local/lib/python3.10/dist-packages (from tensorflow==2.9) (24.2)\n",
            "Requirement already satisfied: protobuf>=3.9.2 in /usr/local/lib/python3.10/dist-packages (from tensorflow==2.9) (3.19.6)\n",
            "Requirement already satisfied: setuptools in /usr/local/lib/python3.10/dist-packages (from tensorflow==2.9) (75.1.0)\n",
            "Requirement already satisfied: six>=1.12.0 in /usr/local/lib/python3.10/dist-packages (from tensorflow==2.9) (1.16.0)\n",
            "Requirement already satisfied: tensorboard<2.10,>=2.9 in /usr/local/lib/python3.10/dist-packages (from tensorflow==2.9) (2.9.1)\n",
            "Requirement already satisfied: tensorflow-io-gcs-filesystem>=0.23.1 in /usr/local/lib/python3.10/dist-packages (from tensorflow==2.9) (0.37.1)\n",
            "Requirement already satisfied: tensorflow-estimator<2.10.0,>=2.9.0rc0 in /usr/local/lib/python3.10/dist-packages (from tensorflow==2.9) (2.9.0)\n",
            "Requirement already satisfied: termcolor>=1.1.0 in /usr/local/lib/python3.10/dist-packages (from tensorflow==2.9) (2.5.0)\n",
            "Requirement already satisfied: typing-extensions>=3.6.6 in /usr/local/lib/python3.10/dist-packages (from tensorflow==2.9) (4.12.2)\n",
            "Requirement already satisfied: wrapt>=1.11.0 in /usr/local/lib/python3.10/dist-packages (from tensorflow==2.9) (1.16.0)\n",
            "Requirement already satisfied: wheel<1.0,>=0.23.0 in /usr/local/lib/python3.10/dist-packages (from astunparse>=1.6.0->tensorflow==2.9) (0.45.0)\n",
            "Requirement already satisfied: google-auth<3,>=1.6.3 in /usr/local/lib/python3.10/dist-packages (from tensorboard<2.10,>=2.9->tensorflow==2.9) (2.27.0)\n",
            "Requirement already satisfied: google-auth-oauthlib<0.5,>=0.4.1 in /usr/local/lib/python3.10/dist-packages (from tensorboard<2.10,>=2.9->tensorflow==2.9) (0.4.6)\n",
            "Requirement already satisfied: markdown>=2.6.8 in /usr/local/lib/python3.10/dist-packages (from tensorboard<2.10,>=2.9->tensorflow==2.9) (3.7)\n",
            "Requirement already satisfied: requests<3,>=2.21.0 in /usr/local/lib/python3.10/dist-packages (from tensorboard<2.10,>=2.9->tensorflow==2.9) (2.32.3)\n",
            "Requirement already satisfied: tensorboard-data-server<0.7.0,>=0.6.0 in /usr/local/lib/python3.10/dist-packages (from tensorboard<2.10,>=2.9->tensorflow==2.9) (0.6.1)\n",
            "Requirement already satisfied: tensorboard-plugin-wit>=1.6.0 in /usr/local/lib/python3.10/dist-packages (from tensorboard<2.10,>=2.9->tensorflow==2.9) (1.8.1)\n",
            "Requirement already satisfied: werkzeug>=1.0.1 in /usr/local/lib/python3.10/dist-packages (from tensorboard<2.10,>=2.9->tensorflow==2.9) (3.1.3)\n",
            "Requirement already satisfied: cachetools<6.0,>=2.0.0 in /usr/local/lib/python3.10/dist-packages (from google-auth<3,>=1.6.3->tensorboard<2.10,>=2.9->tensorflow==2.9) (5.5.0)\n",
            "Requirement already satisfied: pyasn1-modules>=0.2.1 in /usr/local/lib/python3.10/dist-packages (from google-auth<3,>=1.6.3->tensorboard<2.10,>=2.9->tensorflow==2.9) (0.4.1)\n",
            "Requirement already satisfied: rsa<5,>=3.1.4 in /usr/local/lib/python3.10/dist-packages (from google-auth<3,>=1.6.3->tensorboard<2.10,>=2.9->tensorflow==2.9) (4.9)\n",
            "Requirement already satisfied: requests-oauthlib>=0.7.0 in /usr/local/lib/python3.10/dist-packages (from google-auth-oauthlib<0.5,>=0.4.1->tensorboard<2.10,>=2.9->tensorflow==2.9) (1.3.1)\n",
            "Requirement already satisfied: charset-normalizer<4,>=2 in /usr/local/lib/python3.10/dist-packages (from requests<3,>=2.21.0->tensorboard<2.10,>=2.9->tensorflow==2.9) (3.4.0)\n",
            "Requirement already satisfied: idna<4,>=2.5 in /usr/local/lib/python3.10/dist-packages (from requests<3,>=2.21.0->tensorboard<2.10,>=2.9->tensorflow==2.9) (3.10)\n",
            "Requirement already satisfied: urllib3<3,>=1.21.1 in /usr/local/lib/python3.10/dist-packages (from requests<3,>=2.21.0->tensorboard<2.10,>=2.9->tensorflow==2.9) (2.2.3)\n",
            "Requirement already satisfied: certifi>=2017.4.17 in /usr/local/lib/python3.10/dist-packages (from requests<3,>=2.21.0->tensorboard<2.10,>=2.9->tensorflow==2.9) (2024.8.30)\n",
            "Requirement already satisfied: MarkupSafe>=2.1.1 in /usr/local/lib/python3.10/dist-packages (from werkzeug>=1.0.1->tensorboard<2.10,>=2.9->tensorflow==2.9) (3.0.2)\n",
            "Requirement already satisfied: pyasn1<0.7.0,>=0.4.6 in /usr/local/lib/python3.10/dist-packages (from pyasn1-modules>=0.2.1->google-auth<3,>=1.6.3->tensorboard<2.10,>=2.9->tensorflow==2.9) (0.6.1)\n",
            "Requirement already satisfied: oauthlib>=3.0.0 in /usr/local/lib/python3.10/dist-packages (from requests-oauthlib>=0.7.0->google-auth-oauthlib<0.5,>=0.4.1->tensorboard<2.10,>=2.9->tensorflow==2.9) (3.2.2)\n"
          ]
        }
      ]
    },
    {
      "cell_type": "code",
      "metadata": {
        "id": "igMyGnjE9hEp"
      },
      "source": [
        "import csv\n",
        "\n",
        "import numpy as np\n",
        "import tensorflow as tf\n",
        "from sklearn.model_selection import train_test_split\n",
        "\n",
        "RANDOM_SEED = 42"
      ],
      "execution_count": 3,
      "outputs": []
    },
    {
      "cell_type": "markdown",
      "metadata": {
        "id": "t2HDvhIu9hEr"
      },
      "source": [
        "# Specify each path"
      ]
    },
    {
      "cell_type": "code",
      "metadata": {
        "id": "9NvZP2Zn9hEy"
      },
      "source": [
        "dataset = 'model/keypoint_classifier/keypoint.csv'\n",
        "model_save_path = 'model/keypoint_classifier/keypoint_classifier.hdf5'\n",
        "tflite_save_path = 'model/keypoint_classifier/keypoint_classifier.tflite'"
      ],
      "execution_count": 4,
      "outputs": []
    },
    {
      "cell_type": "markdown",
      "metadata": {
        "id": "s5oMH7x19hEz"
      },
      "source": [
        "# Set number of classes"
      ]
    },
    {
      "cell_type": "code",
      "metadata": {
        "id": "du4kodXL9hEz"
      },
      "source": [
        "NUM_CLASSES = 26"
      ],
      "execution_count": 5,
      "outputs": []
    },
    {
      "cell_type": "markdown",
      "metadata": {
        "id": "XjnL0uso9hEz"
      },
      "source": [
        "# Dataset reading"
      ]
    },
    {
      "cell_type": "code",
      "metadata": {
        "id": "QT5ZqtEz9hE0"
      },
      "source": [
        "X_dataset = np.loadtxt(dataset, delimiter=',', dtype='float32', usecols=list(range(1, (21 * 2) + 1)))"
      ],
      "execution_count": 6,
      "outputs": []
    },
    {
      "cell_type": "code",
      "metadata": {
        "id": "QmoKFsp49hE0"
      },
      "source": [
        "y_dataset = np.loadtxt(dataset, delimiter=',', dtype='int32', usecols=(0))"
      ],
      "execution_count": 7,
      "outputs": []
    },
    {
      "cell_type": "code",
      "metadata": {
        "id": "xQU7JTZ_9hE0"
      },
      "source": [
        "X_train, X_test, y_train, y_test = train_test_split(X_dataset, y_dataset, train_size=0.75, random_state=RANDOM_SEED)"
      ],
      "execution_count": 8,
      "outputs": []
    },
    {
      "cell_type": "markdown",
      "metadata": {
        "id": "mxK_lETT9hE0"
      },
      "source": [
        "# Model building"
      ]
    },
    {
      "cell_type": "code",
      "metadata": {
        "id": "vHBmUf1t9hE1"
      },
      "source": [
        "model = tf.keras.models.Sequential([\n",
        "    tf.keras.layers.Input((21 * 2, )),\n",
        "    tf.keras.layers.Dropout(0.2),\n",
        "    tf.keras.layers.Dense(20, activation='relu'),\n",
        "    tf.keras.layers.Dropout(0.4),\n",
        "    tf.keras.layers.Dense(10, activation='relu'),\n",
        "    tf.keras.layers.Dense(NUM_CLASSES, activation='softmax')\n",
        "])"
      ],
      "execution_count": 9,
      "outputs": []
    },
    {
      "cell_type": "code",
      "metadata": {
        "id": "ypqky9tc9hE1",
        "colab": {
          "base_uri": "https://localhost:8080/"
        },
        "outputId": "dcefe667-d882-429f-de2d-0dae1a4ac7d7"
      },
      "source": [
        "model.summary()  # tf.keras.utils.plot_model(model, show_shapes=True)"
      ],
      "execution_count": 10,
      "outputs": [
        {
          "output_type": "stream",
          "name": "stdout",
          "text": [
            "Model: \"sequential\"\n",
            "_________________________________________________________________\n",
            " Layer (type)                Output Shape              Param #   \n",
            "=================================================================\n",
            " dropout (Dropout)           (None, 42)                0         \n",
            "                                                                 \n",
            " dense (Dense)               (None, 20)                860       \n",
            "                                                                 \n",
            " dropout_1 (Dropout)         (None, 20)                0         \n",
            "                                                                 \n",
            " dense_1 (Dense)             (None, 10)                210       \n",
            "                                                                 \n",
            " dense_2 (Dense)             (None, 26)                286       \n",
            "                                                                 \n",
            "=================================================================\n",
            "Total params: 1,356\n",
            "Trainable params: 1,356\n",
            "Non-trainable params: 0\n",
            "_________________________________________________________________\n"
          ]
        }
      ]
    },
    {
      "cell_type": "code",
      "metadata": {
        "id": "MbMjOflQ9hE1"
      },
      "source": [
        "# Model checkpoint callback\n",
        "cp_callback = tf.keras.callbacks.ModelCheckpoint(\n",
        "    model_save_path, verbose=1, save_weights_only=False)\n",
        "# Callback for early stopping\n",
        "es_callback = tf.keras.callbacks.EarlyStopping(patience=20, verbose=1)"
      ],
      "execution_count": 11,
      "outputs": []
    },
    {
      "cell_type": "code",
      "source": [
        "!git add .\n",
        "!git commit -m \"after training\"\n",
        "!git push origin main"
      ],
      "metadata": {
        "id": "L1bIgB9vMHcz",
        "outputId": "2e43470b-2222-49db-d57f-bbccde8f663d",
        "colab": {
          "base_uri": "https://localhost:8080/"
        }
      },
      "execution_count": 25,
      "outputs": [
        {
          "output_type": "stream",
          "name": "stdout",
          "text": [
            "warning: adding embedded git repository: sign-gpt\n",
            "\u001b[33mhint: You've added another git repository inside your current repository.\u001b[m\n",
            "\u001b[33mhint: Clones of the outer repository will not contain the contents of\u001b[m\n",
            "\u001b[33mhint: the embedded repository and will not know how to obtain it.\u001b[m\n",
            "\u001b[33mhint: If you meant to add a submodule, use:\u001b[m\n",
            "\u001b[33mhint: \u001b[m\n",
            "\u001b[33mhint: \tgit submodule add <url> sign-gpt\u001b[m\n",
            "\u001b[33mhint: \u001b[m\n",
            "\u001b[33mhint: If you added this path by mistake, you can remove it from the\u001b[m\n",
            "\u001b[33mhint: index with:\u001b[m\n",
            "\u001b[33mhint: \u001b[m\n",
            "\u001b[33mhint: \tgit rm --cached sign-gpt\u001b[m\n",
            "\u001b[33mhint: \u001b[m\n",
            "\u001b[33mhint: See \"git help submodule\" for more information.\u001b[m\n",
            "Author identity unknown\n",
            "\n",
            "*** Please tell me who you are.\n",
            "\n",
            "Run\n",
            "\n",
            "  git config --global user.email \"you@example.com\"\n",
            "  git config --global user.name \"Your Name\"\n",
            "\n",
            "to set your account's default identity.\n",
            "Omit --global to set the identity only in this repository.\n",
            "\n",
            "fatal: unable to auto-detect email address (got 'root@9ce98e9d3c7f.(none)')\n",
            "fatal: could not read Username for 'https://github.com': No such device or address\n"
          ]
        }
      ]
    },
    {
      "cell_type": "code",
      "metadata": {
        "id": "c3Dac0M_9hE2"
      },
      "source": [
        "# Model compilation\n",
        "model.compile(\n",
        "    optimizer='adam',\n",
        "    loss='sparse_categorical_crossentropy',\n",
        "    metrics=['accuracy']\n",
        ")"
      ],
      "execution_count": 12,
      "outputs": []
    },
    {
      "cell_type": "markdown",
      "metadata": {
        "id": "7XI0j1Iu9hE2"
      },
      "source": [
        "# Model training"
      ]
    },
    {
      "cell_type": "code",
      "metadata": {
        "scrolled": true,
        "id": "WirBl-JE9hE3",
        "colab": {
          "base_uri": "https://localhost:8080/"
        },
        "outputId": "f2ecb16a-0849-4f5c-8848-0fcfbb9dee56"
      },
      "source": [
        "model.fit(\n",
        "    X_train,\n",
        "    y_train,\n",
        "    epochs=1000,\n",
        "    batch_size=128,\n",
        "    validation_data=(X_test, y_test),\n",
        "    callbacks=[cp_callback, es_callback]\n",
        ")"
      ],
      "execution_count": 13,
      "outputs": [
        {
          "output_type": "stream",
          "name": "stdout",
          "text": [
            "Epoch 1/1000\n",
            "73/82 [=========================>....] - ETA: 0s - loss: 3.1453 - accuracy: 0.0675\n",
            "Epoch 1: saving model to model/keypoint_classifier/keypoint_classifier.hdf5\n",
            "82/82 [==============================] - 1s 8ms/step - loss: 3.1357 - accuracy: 0.0677 - val_loss: 2.9552 - val_accuracy: 0.1184\n",
            "Epoch 2/1000\n",
            "69/82 [========================>.....] - ETA: 0s - loss: 2.9011 - accuracy: 0.1372\n",
            "Epoch 2: saving model to model/keypoint_classifier/keypoint_classifier.hdf5\n",
            "82/82 [==============================] - 0s 4ms/step - loss: 2.8819 - accuracy: 0.1410 - val_loss: 2.6351 - val_accuracy: 0.1832\n",
            "Epoch 3/1000\n",
            "71/82 [========================>.....] - ETA: 0s - loss: 2.6679 - accuracy: 0.1910\n",
            "Epoch 3: saving model to model/keypoint_classifier/keypoint_classifier.hdf5\n",
            "82/82 [==============================] - 0s 3ms/step - loss: 2.6608 - accuracy: 0.1938 - val_loss: 2.4282 - val_accuracy: 0.3021\n",
            "Epoch 4/1000\n",
            "57/82 [===================>..........] - ETA: 0s - loss: 2.5164 - accuracy: 0.2379\n",
            "Epoch 4: saving model to model/keypoint_classifier/keypoint_classifier.hdf5\n",
            "82/82 [==============================] - 0s 3ms/step - loss: 2.5012 - accuracy: 0.2414 - val_loss: 2.2419 - val_accuracy: 0.3834\n",
            "Epoch 5/1000\n",
            "67/82 [=======================>......] - ETA: 0s - loss: 2.3666 - accuracy: 0.2724\n",
            "Epoch 5: saving model to model/keypoint_classifier/keypoint_classifier.hdf5\n",
            "82/82 [==============================] - 0s 3ms/step - loss: 2.3550 - accuracy: 0.2744 - val_loss: 2.0656 - val_accuracy: 0.4796\n",
            "Epoch 6/1000\n",
            "56/82 [===================>..........] - ETA: 0s - loss: 2.2600 - accuracy: 0.2960\n",
            "Epoch 6: saving model to model/keypoint_classifier/keypoint_classifier.hdf5\n",
            "82/82 [==============================] - 0s 3ms/step - loss: 2.2357 - accuracy: 0.3000 - val_loss: 1.9109 - val_accuracy: 0.4850\n",
            "Epoch 7/1000\n",
            "60/82 [====================>.........] - ETA: 0s - loss: 2.1438 - accuracy: 0.3257\n",
            "Epoch 7: saving model to model/keypoint_classifier/keypoint_classifier.hdf5\n",
            "82/82 [==============================] - 0s 3ms/step - loss: 2.1303 - accuracy: 0.3295 - val_loss: 1.7781 - val_accuracy: 0.5317\n",
            "Epoch 8/1000\n",
            "57/82 [===================>..........] - ETA: 0s - loss: 2.0648 - accuracy: 0.3416\n",
            "Epoch 8: saving model to model/keypoint_classifier/keypoint_classifier.hdf5\n",
            "82/82 [==============================] - 0s 3ms/step - loss: 2.0559 - accuracy: 0.3470 - val_loss: 1.6719 - val_accuracy: 0.5858\n",
            "Epoch 9/1000\n",
            "73/82 [=========================>....] - ETA: 0s - loss: 2.0052 - accuracy: 0.3557\n",
            "Epoch 9: saving model to model/keypoint_classifier/keypoint_classifier.hdf5\n",
            "82/82 [==============================] - 0s 3ms/step - loss: 2.0045 - accuracy: 0.3566 - val_loss: 1.5758 - val_accuracy: 0.5982\n",
            "Epoch 10/1000\n",
            "58/82 [====================>.........] - ETA: 0s - loss: 1.9447 - accuracy: 0.3664\n",
            "Epoch 10: saving model to model/keypoint_classifier/keypoint_classifier.hdf5\n",
            "82/82 [==============================] - 0s 3ms/step - loss: 1.9313 - accuracy: 0.3728 - val_loss: 1.4872 - val_accuracy: 0.6017\n",
            "Epoch 11/1000\n",
            "81/82 [============================>.] - ETA: 0s - loss: 1.8752 - accuracy: 0.3859\n",
            "Epoch 11: saving model to model/keypoint_classifier/keypoint_classifier.hdf5\n",
            "82/82 [==============================] - 0s 4ms/step - loss: 1.8752 - accuracy: 0.3857 - val_loss: 1.4172 - val_accuracy: 0.6722\n",
            "Epoch 12/1000\n",
            "82/82 [==============================] - ETA: 0s - loss: 1.8438 - accuracy: 0.4042\n",
            "Epoch 12: saving model to model/keypoint_classifier/keypoint_classifier.hdf5\n",
            "82/82 [==============================] - 0s 3ms/step - loss: 1.8438 - accuracy: 0.4042 - val_loss: 1.3665 - val_accuracy: 0.6535\n",
            "Epoch 13/1000\n",
            "55/82 [===================>..........] - ETA: 0s - loss: 1.7983 - accuracy: 0.4101\n",
            "Epoch 13: saving model to model/keypoint_classifier/keypoint_classifier.hdf5\n",
            "82/82 [==============================] - 0s 3ms/step - loss: 1.7929 - accuracy: 0.4089 - val_loss: 1.3063 - val_accuracy: 0.6466\n",
            "Epoch 14/1000\n",
            "80/82 [============================>.] - ETA: 0s - loss: 1.7676 - accuracy: 0.4131\n",
            "Epoch 14: saving model to model/keypoint_classifier/keypoint_classifier.hdf5\n",
            "82/82 [==============================] - 0s 5ms/step - loss: 1.7662 - accuracy: 0.4133 - val_loss: 1.2638 - val_accuracy: 0.6809\n",
            "Epoch 15/1000\n",
            "66/82 [=======================>......] - ETA: 0s - loss: 1.7404 - accuracy: 0.4244\n",
            "Epoch 15: saving model to model/keypoint_classifier/keypoint_classifier.hdf5\n",
            "82/82 [==============================] - 0s 5ms/step - loss: 1.7370 - accuracy: 0.4259 - val_loss: 1.2257 - val_accuracy: 0.7013\n",
            "Epoch 16/1000\n",
            "66/82 [=======================>......] - ETA: 0s - loss: 1.7441 - accuracy: 0.4177\n",
            "Epoch 16: saving model to model/keypoint_classifier/keypoint_classifier.hdf5\n",
            "82/82 [==============================] - 0s 6ms/step - loss: 1.7288 - accuracy: 0.4233 - val_loss: 1.1936 - val_accuracy: 0.7105\n",
            "Epoch 17/1000\n",
            "79/82 [===========================>..] - ETA: 0s - loss: 1.6791 - accuracy: 0.4432\n",
            "Epoch 17: saving model to model/keypoint_classifier/keypoint_classifier.hdf5\n",
            "82/82 [==============================] - 1s 6ms/step - loss: 1.6795 - accuracy: 0.4418 - val_loss: 1.1558 - val_accuracy: 0.7166\n",
            "Epoch 18/1000\n",
            "82/82 [==============================] - ETA: 0s - loss: 1.6583 - accuracy: 0.4485\n",
            "Epoch 18: saving model to model/keypoint_classifier/keypoint_classifier.hdf5\n",
            "82/82 [==============================] - 1s 7ms/step - loss: 1.6583 - accuracy: 0.4485 - val_loss: 1.1272 - val_accuracy: 0.7368\n",
            "Epoch 19/1000\n",
            "71/82 [========================>.....] - ETA: 0s - loss: 1.6362 - accuracy: 0.4493\n",
            "Epoch 19: saving model to model/keypoint_classifier/keypoint_classifier.hdf5\n",
            "82/82 [==============================] - 0s 5ms/step - loss: 1.6363 - accuracy: 0.4489 - val_loss: 1.0952 - val_accuracy: 0.7307\n",
            "Epoch 20/1000\n",
            "77/82 [===========================>..] - ETA: 0s - loss: 1.6069 - accuracy: 0.4591\n",
            "Epoch 20: saving model to model/keypoint_classifier/keypoint_classifier.hdf5\n",
            "82/82 [==============================] - 0s 4ms/step - loss: 1.6094 - accuracy: 0.4581 - val_loss: 1.0718 - val_accuracy: 0.7722\n",
            "Epoch 21/1000\n",
            "75/82 [==========================>...] - ETA: 0s - loss: 1.6078 - accuracy: 0.4620\n",
            "Epoch 21: saving model to model/keypoint_classifier/keypoint_classifier.hdf5\n",
            "82/82 [==============================] - 0s 5ms/step - loss: 1.6061 - accuracy: 0.4631 - val_loss: 1.0541 - val_accuracy: 0.7555\n",
            "Epoch 22/1000\n",
            "66/82 [=======================>......] - ETA: 0s - loss: 1.5758 - accuracy: 0.4712\n",
            "Epoch 22: saving model to model/keypoint_classifier/keypoint_classifier.hdf5\n",
            "82/82 [==============================] - 0s 4ms/step - loss: 1.5756 - accuracy: 0.4687 - val_loss: 1.0139 - val_accuracy: 0.7704\n",
            "Epoch 23/1000\n",
            "79/82 [===========================>..] - ETA: 0s - loss: 1.5706 - accuracy: 0.4724\n",
            "Epoch 23: saving model to model/keypoint_classifier/keypoint_classifier.hdf5\n",
            "82/82 [==============================] - 0s 5ms/step - loss: 1.5689 - accuracy: 0.4725 - val_loss: 1.0027 - val_accuracy: 0.7586\n",
            "Epoch 24/1000\n",
            "75/82 [==========================>...] - ETA: 0s - loss: 1.5605 - accuracy: 0.4809\n",
            "Epoch 24: saving model to model/keypoint_classifier/keypoint_classifier.hdf5\n",
            "82/82 [==============================] - 1s 7ms/step - loss: 1.5628 - accuracy: 0.4809 - val_loss: 0.9859 - val_accuracy: 0.7782\n",
            "Epoch 25/1000\n",
            "69/82 [========================>.....] - ETA: 0s - loss: 1.5389 - accuracy: 0.4818\n",
            "Epoch 25: saving model to model/keypoint_classifier/keypoint_classifier.hdf5\n",
            "82/82 [==============================] - 0s 6ms/step - loss: 1.5409 - accuracy: 0.4824 - val_loss: 0.9746 - val_accuracy: 0.7805\n",
            "Epoch 26/1000\n",
            "75/82 [==========================>...] - ETA: 0s - loss: 1.5243 - accuracy: 0.4864\n",
            "Epoch 26: saving model to model/keypoint_classifier/keypoint_classifier.hdf5\n",
            "82/82 [==============================] - 0s 6ms/step - loss: 1.5284 - accuracy: 0.4859 - val_loss: 0.9541 - val_accuracy: 0.7635\n",
            "Epoch 27/1000\n",
            "81/82 [============================>.] - ETA: 0s - loss: 1.5363 - accuracy: 0.4907\n",
            "Epoch 27: saving model to model/keypoint_classifier/keypoint_classifier.hdf5\n",
            "82/82 [==============================] - 0s 5ms/step - loss: 1.5363 - accuracy: 0.4910 - val_loss: 0.9470 - val_accuracy: 0.7923\n",
            "Epoch 28/1000\n",
            "68/82 [=======================>......] - ETA: 0s - loss: 1.4965 - accuracy: 0.4999\n",
            "Epoch 28: saving model to model/keypoint_classifier/keypoint_classifier.hdf5\n",
            "82/82 [==============================] - 0s 6ms/step - loss: 1.4960 - accuracy: 0.4991 - val_loss: 0.9254 - val_accuracy: 0.7906\n",
            "Epoch 29/1000\n",
            "82/82 [==============================] - ETA: 0s - loss: 1.5147 - accuracy: 0.4908\n",
            "Epoch 29: saving model to model/keypoint_classifier/keypoint_classifier.hdf5\n",
            "82/82 [==============================] - 1s 7ms/step - loss: 1.5147 - accuracy: 0.4908 - val_loss: 0.9256 - val_accuracy: 0.7877\n",
            "Epoch 30/1000\n",
            "76/82 [==========================>...] - ETA: 0s - loss: 1.4990 - accuracy: 0.5019\n",
            "Epoch 30: saving model to model/keypoint_classifier/keypoint_classifier.hdf5\n",
            "82/82 [==============================] - 1s 8ms/step - loss: 1.4942 - accuracy: 0.5027 - val_loss: 0.9165 - val_accuracy: 0.7601\n",
            "Epoch 31/1000\n",
            "69/82 [========================>.....] - ETA: 0s - loss: 1.4698 - accuracy: 0.5055\n",
            "Epoch 31: saving model to model/keypoint_classifier/keypoint_classifier.hdf5\n",
            "82/82 [==============================] - 1s 6ms/step - loss: 1.4680 - accuracy: 0.5049 - val_loss: 0.8910 - val_accuracy: 0.7756\n",
            "Epoch 32/1000\n",
            "78/82 [===========================>..] - ETA: 0s - loss: 1.4576 - accuracy: 0.5155\n",
            "Epoch 32: saving model to model/keypoint_classifier/keypoint_classifier.hdf5\n",
            "82/82 [==============================] - 1s 6ms/step - loss: 1.4542 - accuracy: 0.5178 - val_loss: 0.8791 - val_accuracy: 0.7995\n",
            "Epoch 33/1000\n",
            "68/82 [=======================>......] - ETA: 0s - loss: 1.4631 - accuracy: 0.5108\n",
            "Epoch 33: saving model to model/keypoint_classifier/keypoint_classifier.hdf5\n",
            "82/82 [==============================] - 1s 7ms/step - loss: 1.4522 - accuracy: 0.5159 - val_loss: 0.8633 - val_accuracy: 0.7895\n",
            "Epoch 34/1000\n",
            "75/82 [==========================>...] - ETA: 0s - loss: 1.4452 - accuracy: 0.5134\n",
            "Epoch 34: saving model to model/keypoint_classifier/keypoint_classifier.hdf5\n",
            "82/82 [==============================] - 0s 6ms/step - loss: 1.4467 - accuracy: 0.5143 - val_loss: 0.8635 - val_accuracy: 0.7909\n",
            "Epoch 35/1000\n",
            "75/82 [==========================>...] - ETA: 0s - loss: 1.4412 - accuracy: 0.5148\n",
            "Epoch 35: saving model to model/keypoint_classifier/keypoint_classifier.hdf5\n",
            "82/82 [==============================] - 1s 9ms/step - loss: 1.4448 - accuracy: 0.5153 - val_loss: 0.8530 - val_accuracy: 0.7961\n",
            "Epoch 36/1000\n",
            "80/82 [============================>.] - ETA: 0s - loss: 1.4436 - accuracy: 0.5178\n",
            "Epoch 36: saving model to model/keypoint_classifier/keypoint_classifier.hdf5\n",
            "82/82 [==============================] - 1s 7ms/step - loss: 1.4425 - accuracy: 0.5182 - val_loss: 0.8527 - val_accuracy: 0.7889\n",
            "Epoch 37/1000\n",
            "75/82 [==========================>...] - ETA: 0s - loss: 1.4099 - accuracy: 0.5261\n",
            "Epoch 37: saving model to model/keypoint_classifier/keypoint_classifier.hdf5\n",
            "82/82 [==============================] - 1s 6ms/step - loss: 1.4098 - accuracy: 0.5271 - val_loss: 0.8293 - val_accuracy: 0.8243\n",
            "Epoch 38/1000\n",
            "74/82 [==========================>...] - ETA: 0s - loss: 1.4146 - accuracy: 0.5286\n",
            "Epoch 38: saving model to model/keypoint_classifier/keypoint_classifier.hdf5\n",
            "82/82 [==============================] - 1s 6ms/step - loss: 1.4149 - accuracy: 0.5279 - val_loss: 0.8043 - val_accuracy: 0.8165\n",
            "Epoch 39/1000\n",
            "81/82 [============================>.] - ETA: 0s - loss: 1.4043 - accuracy: 0.5231\n",
            "Epoch 39: saving model to model/keypoint_classifier/keypoint_classifier.hdf5\n",
            "82/82 [==============================] - 1s 6ms/step - loss: 1.4049 - accuracy: 0.5228 - val_loss: 0.8119 - val_accuracy: 0.8223\n",
            "Epoch 40/1000\n",
            "76/82 [==========================>...] - ETA: 0s - loss: 1.3993 - accuracy: 0.5326\n",
            "Epoch 40: saving model to model/keypoint_classifier/keypoint_classifier.hdf5\n",
            "82/82 [==============================] - 0s 5ms/step - loss: 1.3969 - accuracy: 0.5339 - val_loss: 0.8064 - val_accuracy: 0.8229\n",
            "Epoch 41/1000\n",
            "80/82 [============================>.] - ETA: 0s - loss: 1.3898 - accuracy: 0.5273\n",
            "Epoch 41: saving model to model/keypoint_classifier/keypoint_classifier.hdf5\n",
            "82/82 [==============================] - 1s 6ms/step - loss: 1.3884 - accuracy: 0.5278 - val_loss: 0.7978 - val_accuracy: 0.8329\n",
            "Epoch 42/1000\n",
            "71/82 [========================>.....] - ETA: 0s - loss: 1.3713 - accuracy: 0.5371\n",
            "Epoch 42: saving model to model/keypoint_classifier/keypoint_classifier.hdf5\n",
            "82/82 [==============================] - 0s 5ms/step - loss: 1.3761 - accuracy: 0.5377 - val_loss: 0.7799 - val_accuracy: 0.8304\n",
            "Epoch 43/1000\n",
            "74/82 [==========================>...] - ETA: 0s - loss: 1.3733 - accuracy: 0.5404\n",
            "Epoch 43: saving model to model/keypoint_classifier/keypoint_classifier.hdf5\n",
            "82/82 [==============================] - 0s 6ms/step - loss: 1.3708 - accuracy: 0.5402 - val_loss: 0.7808 - val_accuracy: 0.8134\n",
            "Epoch 44/1000\n",
            "79/82 [===========================>..] - ETA: 0s - loss: 1.3729 - accuracy: 0.5356\n",
            "Epoch 44: saving model to model/keypoint_classifier/keypoint_classifier.hdf5\n",
            "82/82 [==============================] - 0s 6ms/step - loss: 1.3714 - accuracy: 0.5367 - val_loss: 0.7684 - val_accuracy: 0.8223\n",
            "Epoch 45/1000\n",
            "77/82 [===========================>..] - ETA: 0s - loss: 1.3462 - accuracy: 0.5463\n",
            "Epoch 45: saving model to model/keypoint_classifier/keypoint_classifier.hdf5\n",
            "82/82 [==============================] - 1s 7ms/step - loss: 1.3471 - accuracy: 0.5466 - val_loss: 0.7663 - val_accuracy: 0.8306\n",
            "Epoch 46/1000\n",
            "76/82 [==========================>...] - ETA: 0s - loss: 1.3410 - accuracy: 0.5451\n",
            "Epoch 46: saving model to model/keypoint_classifier/keypoint_classifier.hdf5\n",
            "82/82 [==============================] - 0s 5ms/step - loss: 1.3408 - accuracy: 0.5451 - val_loss: 0.7563 - val_accuracy: 0.8151\n",
            "Epoch 47/1000\n",
            "80/82 [============================>.] - ETA: 0s - loss: 1.3623 - accuracy: 0.5462\n",
            "Epoch 47: saving model to model/keypoint_classifier/keypoint_classifier.hdf5\n",
            "82/82 [==============================] - 0s 6ms/step - loss: 1.3620 - accuracy: 0.5465 - val_loss: 0.7558 - val_accuracy: 0.8180\n",
            "Epoch 48/1000\n",
            "81/82 [============================>.] - ETA: 0s - loss: 1.3398 - accuracy: 0.5515\n",
            "Epoch 48: saving model to model/keypoint_classifier/keypoint_classifier.hdf5\n",
            "82/82 [==============================] - 1s 7ms/step - loss: 1.3398 - accuracy: 0.5519 - val_loss: 0.7471 - val_accuracy: 0.8257\n",
            "Epoch 49/1000\n",
            "71/82 [========================>.....] - ETA: 0s - loss: 1.3587 - accuracy: 0.5377\n",
            "Epoch 49: saving model to model/keypoint_classifier/keypoint_classifier.hdf5\n",
            "82/82 [==============================] - 0s 5ms/step - loss: 1.3603 - accuracy: 0.5392 - val_loss: 0.7486 - val_accuracy: 0.8105\n",
            "Epoch 50/1000\n",
            "74/82 [==========================>...] - ETA: 0s - loss: 1.3297 - accuracy: 0.5480\n",
            "Epoch 50: saving model to model/keypoint_classifier/keypoint_classifier.hdf5\n",
            "82/82 [==============================] - 0s 5ms/step - loss: 1.3301 - accuracy: 0.5467 - val_loss: 0.7350 - val_accuracy: 0.8289\n",
            "Epoch 51/1000\n",
            "68/82 [=======================>......] - ETA: 0s - loss: 1.3342 - accuracy: 0.5509\n",
            "Epoch 51: saving model to model/keypoint_classifier/keypoint_classifier.hdf5\n",
            "82/82 [==============================] - 1s 7ms/step - loss: 1.3396 - accuracy: 0.5508 - val_loss: 0.7341 - val_accuracy: 0.8240\n",
            "Epoch 52/1000\n",
            "67/82 [=======================>......] - ETA: 0s - loss: 1.3242 - accuracy: 0.5533\n",
            "Epoch 52: saving model to model/keypoint_classifier/keypoint_classifier.hdf5\n",
            "82/82 [==============================] - 0s 5ms/step - loss: 1.3238 - accuracy: 0.5528 - val_loss: 0.7374 - val_accuracy: 0.8096\n",
            "Epoch 53/1000\n",
            "81/82 [============================>.] - ETA: 0s - loss: 1.3249 - accuracy: 0.5566\n",
            "Epoch 53: saving model to model/keypoint_classifier/keypoint_classifier.hdf5\n",
            "82/82 [==============================] - 1s 6ms/step - loss: 1.3263 - accuracy: 0.5563 - val_loss: 0.7255 - val_accuracy: 0.8177\n",
            "Epoch 54/1000\n",
            "71/82 [========================>.....] - ETA: 0s - loss: 1.3258 - accuracy: 0.5563\n",
            "Epoch 54: saving model to model/keypoint_classifier/keypoint_classifier.hdf5\n",
            "82/82 [==============================] - 0s 6ms/step - loss: 1.3241 - accuracy: 0.5544 - val_loss: 0.7263 - val_accuracy: 0.8113\n",
            "Epoch 55/1000\n",
            "76/82 [==========================>...] - ETA: 0s - loss: 1.3237 - accuracy: 0.5582\n",
            "Epoch 55: saving model to model/keypoint_classifier/keypoint_classifier.hdf5\n",
            "82/82 [==============================] - 1s 8ms/step - loss: 1.3230 - accuracy: 0.5582 - val_loss: 0.7244 - val_accuracy: 0.8419\n",
            "Epoch 56/1000\n",
            "69/82 [========================>.....] - ETA: 0s - loss: 1.3160 - accuracy: 0.5519\n",
            "Epoch 56: saving model to model/keypoint_classifier/keypoint_classifier.hdf5\n",
            "82/82 [==============================] - 0s 5ms/step - loss: 1.3201 - accuracy: 0.5503 - val_loss: 0.7241 - val_accuracy: 0.8243\n",
            "Epoch 57/1000\n",
            "82/82 [==============================] - ETA: 0s - loss: 1.2951 - accuracy: 0.5682\n",
            "Epoch 57: saving model to model/keypoint_classifier/keypoint_classifier.hdf5\n",
            "82/82 [==============================] - 1s 10ms/step - loss: 1.2951 - accuracy: 0.5682 - val_loss: 0.7033 - val_accuracy: 0.8367\n",
            "Epoch 58/1000\n",
            "75/82 [==========================>...] - ETA: 0s - loss: 1.3115 - accuracy: 0.5607\n",
            "Epoch 58: saving model to model/keypoint_classifier/keypoint_classifier.hdf5\n",
            "82/82 [==============================] - 1s 7ms/step - loss: 1.3075 - accuracy: 0.5625 - val_loss: 0.6991 - val_accuracy: 0.8332\n",
            "Epoch 59/1000\n",
            "72/82 [=========================>....] - ETA: 0s - loss: 1.2995 - accuracy: 0.5621\n",
            "Epoch 59: saving model to model/keypoint_classifier/keypoint_classifier.hdf5\n",
            "82/82 [==============================] - 1s 7ms/step - loss: 1.2974 - accuracy: 0.5620 - val_loss: 0.7034 - val_accuracy: 0.8105\n",
            "Epoch 60/1000\n",
            "81/82 [============================>.] - ETA: 0s - loss: 1.2891 - accuracy: 0.5681\n",
            "Epoch 60: saving model to model/keypoint_classifier/keypoint_classifier.hdf5\n",
            "82/82 [==============================] - 1s 9ms/step - loss: 1.2891 - accuracy: 0.5683 - val_loss: 0.6931 - val_accuracy: 0.8353\n",
            "Epoch 61/1000\n",
            "80/82 [============================>.] - ETA: 0s - loss: 1.2816 - accuracy: 0.5655\n",
            "Epoch 61: saving model to model/keypoint_classifier/keypoint_classifier.hdf5\n",
            "82/82 [==============================] - 1s 8ms/step - loss: 1.2824 - accuracy: 0.5651 - val_loss: 0.6873 - val_accuracy: 0.8393\n",
            "Epoch 62/1000\n",
            "82/82 [==============================] - ETA: 0s - loss: 1.2882 - accuracy: 0.5664\n",
            "Epoch 62: saving model to model/keypoint_classifier/keypoint_classifier.hdf5\n",
            "82/82 [==============================] - 1s 7ms/step - loss: 1.2882 - accuracy: 0.5664 - val_loss: 0.6961 - val_accuracy: 0.8347\n",
            "Epoch 63/1000\n",
            "79/82 [===========================>..] - ETA: 0s - loss: 1.2761 - accuracy: 0.5634\n",
            "Epoch 63: saving model to model/keypoint_classifier/keypoint_classifier.hdf5\n",
            "82/82 [==============================] - 1s 9ms/step - loss: 1.2762 - accuracy: 0.5640 - val_loss: 0.6864 - val_accuracy: 0.8283\n",
            "Epoch 64/1000\n",
            "68/82 [=======================>......] - ETA: 0s - loss: 1.2810 - accuracy: 0.5720\n",
            "Epoch 64: saving model to model/keypoint_classifier/keypoint_classifier.hdf5\n",
            "82/82 [==============================] - 0s 6ms/step - loss: 1.2757 - accuracy: 0.5745 - val_loss: 0.6865 - val_accuracy: 0.8257\n",
            "Epoch 65/1000\n",
            "68/82 [=======================>......] - ETA: 0s - loss: 1.2609 - accuracy: 0.5727\n",
            "Epoch 65: saving model to model/keypoint_classifier/keypoint_classifier.hdf5\n",
            "82/82 [==============================] - 0s 6ms/step - loss: 1.2688 - accuracy: 0.5716 - val_loss: 0.6909 - val_accuracy: 0.8278\n",
            "Epoch 66/1000\n",
            "82/82 [==============================] - ETA: 0s - loss: 1.2922 - accuracy: 0.5622\n",
            "Epoch 66: saving model to model/keypoint_classifier/keypoint_classifier.hdf5\n",
            "82/82 [==============================] - 0s 5ms/step - loss: 1.2922 - accuracy: 0.5622 - val_loss: 0.6760 - val_accuracy: 0.8410\n",
            "Epoch 67/1000\n",
            "79/82 [===========================>..] - ETA: 0s - loss: 1.2694 - accuracy: 0.5717\n",
            "Epoch 67: saving model to model/keypoint_classifier/keypoint_classifier.hdf5\n",
            "82/82 [==============================] - 0s 6ms/step - loss: 1.2669 - accuracy: 0.5733 - val_loss: 0.6770 - val_accuracy: 0.8390\n",
            "Epoch 68/1000\n",
            "81/82 [============================>.] - ETA: 0s - loss: 1.2646 - accuracy: 0.5744\n",
            "Epoch 68: saving model to model/keypoint_classifier/keypoint_classifier.hdf5\n",
            "82/82 [==============================] - 0s 6ms/step - loss: 1.2660 - accuracy: 0.5737 - val_loss: 0.6705 - val_accuracy: 0.8355\n",
            "Epoch 69/1000\n",
            "78/82 [===========================>..] - ETA: 0s - loss: 1.2532 - accuracy: 0.5778\n",
            "Epoch 69: saving model to model/keypoint_classifier/keypoint_classifier.hdf5\n",
            "82/82 [==============================] - 1s 7ms/step - loss: 1.2554 - accuracy: 0.5767 - val_loss: 0.6693 - val_accuracy: 0.8393\n",
            "Epoch 70/1000\n",
            "79/82 [===========================>..] - ETA: 0s - loss: 1.2516 - accuracy: 0.5783\n",
            "Epoch 70: saving model to model/keypoint_classifier/keypoint_classifier.hdf5\n",
            "82/82 [==============================] - 1s 10ms/step - loss: 1.2527 - accuracy: 0.5770 - val_loss: 0.6741 - val_accuracy: 0.8450\n",
            "Epoch 71/1000\n",
            "72/82 [=========================>....] - ETA: 0s - loss: 1.2466 - accuracy: 0.5781\n",
            "Epoch 71: saving model to model/keypoint_classifier/keypoint_classifier.hdf5\n",
            "82/82 [==============================] - 1s 7ms/step - loss: 1.2475 - accuracy: 0.5762 - val_loss: 0.6646 - val_accuracy: 0.8425\n",
            "Epoch 72/1000\n",
            "72/82 [=========================>....] - ETA: 0s - loss: 1.2450 - accuracy: 0.5792\n",
            "Epoch 72: saving model to model/keypoint_classifier/keypoint_classifier.hdf5\n",
            "82/82 [==============================] - 0s 5ms/step - loss: 1.2435 - accuracy: 0.5802 - val_loss: 0.6587 - val_accuracy: 0.8321\n",
            "Epoch 73/1000\n",
            "79/82 [===========================>..] - ETA: 0s - loss: 1.2572 - accuracy: 0.5716\n",
            "Epoch 73: saving model to model/keypoint_classifier/keypoint_classifier.hdf5\n",
            "82/82 [==============================] - 0s 4ms/step - loss: 1.2591 - accuracy: 0.5711 - val_loss: 0.6616 - val_accuracy: 0.8304\n",
            "Epoch 74/1000\n",
            "77/82 [===========================>..] - ETA: 0s - loss: 1.2333 - accuracy: 0.5743\n",
            "Epoch 74: saving model to model/keypoint_classifier/keypoint_classifier.hdf5\n",
            "82/82 [==============================] - 0s 6ms/step - loss: 1.2324 - accuracy: 0.5749 - val_loss: 0.6494 - val_accuracy: 0.8353\n",
            "Epoch 75/1000\n",
            "77/82 [===========================>..] - ETA: 0s - loss: 1.2617 - accuracy: 0.5678\n",
            "Epoch 75: saving model to model/keypoint_classifier/keypoint_classifier.hdf5\n",
            "82/82 [==============================] - 0s 6ms/step - loss: 1.2606 - accuracy: 0.5688 - val_loss: 0.6646 - val_accuracy: 0.8373\n",
            "Epoch 76/1000\n",
            "76/82 [==========================>...] - ETA: 0s - loss: 1.2627 - accuracy: 0.5714\n",
            "Epoch 76: saving model to model/keypoint_classifier/keypoint_classifier.hdf5\n",
            "82/82 [==============================] - 1s 7ms/step - loss: 1.2614 - accuracy: 0.5720 - val_loss: 0.6513 - val_accuracy: 0.8499\n",
            "Epoch 77/1000\n",
            "66/82 [=======================>......] - ETA: 0s - loss: 1.2250 - accuracy: 0.5826\n",
            "Epoch 77: saving model to model/keypoint_classifier/keypoint_classifier.hdf5\n",
            "82/82 [==============================] - 0s 5ms/step - loss: 1.2267 - accuracy: 0.5827 - val_loss: 0.6522 - val_accuracy: 0.8355\n",
            "Epoch 78/1000\n",
            "69/82 [========================>.....] - ETA: 0s - loss: 1.2122 - accuracy: 0.5876\n",
            "Epoch 78: saving model to model/keypoint_classifier/keypoint_classifier.hdf5\n",
            "82/82 [==============================] - 0s 4ms/step - loss: 1.2123 - accuracy: 0.5851 - val_loss: 0.6451 - val_accuracy: 0.8289\n",
            "Epoch 79/1000\n",
            "72/82 [=========================>....] - ETA: 0s - loss: 1.2218 - accuracy: 0.5826\n",
            "Epoch 79: saving model to model/keypoint_classifier/keypoint_classifier.hdf5\n",
            "82/82 [==============================] - 0s 5ms/step - loss: 1.2221 - accuracy: 0.5821 - val_loss: 0.6415 - val_accuracy: 0.8450\n",
            "Epoch 80/1000\n",
            "69/82 [========================>.....] - ETA: 0s - loss: 1.2227 - accuracy: 0.5857\n",
            "Epoch 80: saving model to model/keypoint_classifier/keypoint_classifier.hdf5\n",
            "82/82 [==============================] - 0s 4ms/step - loss: 1.2206 - accuracy: 0.5860 - val_loss: 0.6411 - val_accuracy: 0.8482\n",
            "Epoch 81/1000\n",
            "82/82 [==============================] - ETA: 0s - loss: 1.2309 - accuracy: 0.5804\n",
            "Epoch 81: saving model to model/keypoint_classifier/keypoint_classifier.hdf5\n",
            "82/82 [==============================] - 1s 7ms/step - loss: 1.2309 - accuracy: 0.5804 - val_loss: 0.6429 - val_accuracy: 0.8508\n",
            "Epoch 82/1000\n",
            "62/82 [=====================>........] - ETA: 0s - loss: 1.2173 - accuracy: 0.5861\n",
            "Epoch 82: saving model to model/keypoint_classifier/keypoint_classifier.hdf5\n",
            "82/82 [==============================] - 0s 3ms/step - loss: 1.2156 - accuracy: 0.5878 - val_loss: 0.6368 - val_accuracy: 0.8494\n",
            "Epoch 83/1000\n",
            "58/82 [====================>.........] - ETA: 0s - loss: 1.1901 - accuracy: 0.5877\n",
            "Epoch 83: saving model to model/keypoint_classifier/keypoint_classifier.hdf5\n",
            "82/82 [==============================] - 0s 3ms/step - loss: 1.1974 - accuracy: 0.5907 - val_loss: 0.6286 - val_accuracy: 0.8560\n",
            "Epoch 84/1000\n",
            "80/82 [============================>.] - ETA: 0s - loss: 1.2157 - accuracy: 0.5872\n",
            "Epoch 84: saving model to model/keypoint_classifier/keypoint_classifier.hdf5\n",
            "82/82 [==============================] - 0s 3ms/step - loss: 1.2168 - accuracy: 0.5866 - val_loss: 0.6398 - val_accuracy: 0.8459\n",
            "Epoch 85/1000\n",
            "82/82 [==============================] - ETA: 0s - loss: 1.2139 - accuracy: 0.5870\n",
            "Epoch 85: saving model to model/keypoint_classifier/keypoint_classifier.hdf5\n",
            "82/82 [==============================] - 0s 3ms/step - loss: 1.2139 - accuracy: 0.5870 - val_loss: 0.6321 - val_accuracy: 0.8430\n",
            "Epoch 86/1000\n",
            "57/82 [===================>..........] - ETA: 0s - loss: 1.2007 - accuracy: 0.5928\n",
            "Epoch 86: saving model to model/keypoint_classifier/keypoint_classifier.hdf5\n",
            "82/82 [==============================] - 0s 3ms/step - loss: 1.1951 - accuracy: 0.5930 - val_loss: 0.6264 - val_accuracy: 0.8511\n",
            "Epoch 87/1000\n",
            "80/82 [============================>.] - ETA: 0s - loss: 1.2092 - accuracy: 0.5854\n",
            "Epoch 87: saving model to model/keypoint_classifier/keypoint_classifier.hdf5\n",
            "82/82 [==============================] - 0s 4ms/step - loss: 1.2102 - accuracy: 0.5857 - val_loss: 0.6353 - val_accuracy: 0.8534\n",
            "Epoch 88/1000\n",
            "71/82 [========================>.....] - ETA: 0s - loss: 1.2006 - accuracy: 0.5933\n",
            "Epoch 88: saving model to model/keypoint_classifier/keypoint_classifier.hdf5\n",
            "82/82 [==============================] - 0s 4ms/step - loss: 1.1980 - accuracy: 0.5945 - val_loss: 0.6311 - val_accuracy: 0.8413\n",
            "Epoch 89/1000\n",
            "64/82 [======================>.......] - ETA: 0s - loss: 1.1927 - accuracy: 0.5983\n",
            "Epoch 89: saving model to model/keypoint_classifier/keypoint_classifier.hdf5\n",
            "82/82 [==============================] - 0s 4ms/step - loss: 1.1928 - accuracy: 0.5954 - val_loss: 0.6313 - val_accuracy: 0.8554\n",
            "Epoch 90/1000\n",
            "78/82 [===========================>..] - ETA: 0s - loss: 1.2105 - accuracy: 0.5825\n",
            "Epoch 90: saving model to model/keypoint_classifier/keypoint_classifier.hdf5\n",
            "82/82 [==============================] - 0s 4ms/step - loss: 1.2096 - accuracy: 0.5834 - val_loss: 0.6322 - val_accuracy: 0.8517\n",
            "Epoch 91/1000\n",
            "75/82 [==========================>...] - ETA: 0s - loss: 1.1915 - accuracy: 0.5947\n",
            "Epoch 91: saving model to model/keypoint_classifier/keypoint_classifier.hdf5\n",
            "82/82 [==============================] - 0s 4ms/step - loss: 1.1934 - accuracy: 0.5928 - val_loss: 0.6271 - val_accuracy: 0.8413\n",
            "Epoch 92/1000\n",
            "65/82 [======================>.......] - ETA: 0s - loss: 1.1867 - accuracy: 0.5936\n",
            "Epoch 92: saving model to model/keypoint_classifier/keypoint_classifier.hdf5\n",
            "82/82 [==============================] - 0s 4ms/step - loss: 1.1748 - accuracy: 0.5995 - val_loss: 0.6284 - val_accuracy: 0.8384\n",
            "Epoch 93/1000\n",
            "75/82 [==========================>...] - ETA: 0s - loss: 1.1963 - accuracy: 0.5906\n",
            "Epoch 93: saving model to model/keypoint_classifier/keypoint_classifier.hdf5\n",
            "82/82 [==============================] - 0s 4ms/step - loss: 1.1909 - accuracy: 0.5924 - val_loss: 0.6231 - val_accuracy: 0.8459\n",
            "Epoch 94/1000\n",
            "66/82 [=======================>......] - ETA: 0s - loss: 1.1734 - accuracy: 0.6031\n",
            "Epoch 94: saving model to model/keypoint_classifier/keypoint_classifier.hdf5\n",
            "82/82 [==============================] - 0s 4ms/step - loss: 1.1773 - accuracy: 0.6006 - val_loss: 0.6120 - val_accuracy: 0.8511\n",
            "Epoch 95/1000\n",
            "77/82 [===========================>..] - ETA: 0s - loss: 1.1802 - accuracy: 0.5926\n",
            "Epoch 95: saving model to model/keypoint_classifier/keypoint_classifier.hdf5\n",
            "82/82 [==============================] - 0s 4ms/step - loss: 1.1794 - accuracy: 0.5936 - val_loss: 0.6081 - val_accuracy: 0.8569\n",
            "Epoch 96/1000\n",
            "76/82 [==========================>...] - ETA: 0s - loss: 1.2008 - accuracy: 0.5907\n",
            "Epoch 96: saving model to model/keypoint_classifier/keypoint_classifier.hdf5\n",
            "82/82 [==============================] - 0s 4ms/step - loss: 1.1978 - accuracy: 0.5903 - val_loss: 0.6142 - val_accuracy: 0.8425\n",
            "Epoch 97/1000\n",
            "79/82 [===========================>..] - ETA: 0s - loss: 1.1917 - accuracy: 0.5971\n",
            "Epoch 97: saving model to model/keypoint_classifier/keypoint_classifier.hdf5\n",
            "82/82 [==============================] - 0s 3ms/step - loss: 1.1917 - accuracy: 0.5978 - val_loss: 0.6122 - val_accuracy: 0.8658\n",
            "Epoch 98/1000\n",
            "82/82 [==============================] - ETA: 0s - loss: 1.1704 - accuracy: 0.6051\n",
            "Epoch 98: saving model to model/keypoint_classifier/keypoint_classifier.hdf5\n",
            "82/82 [==============================] - 0s 3ms/step - loss: 1.1704 - accuracy: 0.6051 - val_loss: 0.6131 - val_accuracy: 0.8597\n",
            "Epoch 99/1000\n",
            "58/82 [====================>.........] - ETA: 0s - loss: 1.1769 - accuracy: 0.5955\n",
            "Epoch 99: saving model to model/keypoint_classifier/keypoint_classifier.hdf5\n",
            "82/82 [==============================] - 0s 3ms/step - loss: 1.1749 - accuracy: 0.5937 - val_loss: 0.6150 - val_accuracy: 0.8615\n",
            "Epoch 100/1000\n",
            "55/82 [===================>..........] - ETA: 0s - loss: 1.1720 - accuracy: 0.6001\n",
            "Epoch 100: saving model to model/keypoint_classifier/keypoint_classifier.hdf5\n",
            "82/82 [==============================] - 0s 3ms/step - loss: 1.1617 - accuracy: 0.6041 - val_loss: 0.6138 - val_accuracy: 0.8361\n",
            "Epoch 101/1000\n",
            "74/82 [==========================>...] - ETA: 0s - loss: 1.1708 - accuracy: 0.5969\n",
            "Epoch 101: saving model to model/keypoint_classifier/keypoint_classifier.hdf5\n",
            "82/82 [==============================] - 0s 3ms/step - loss: 1.1722 - accuracy: 0.5974 - val_loss: 0.6149 - val_accuracy: 0.8445\n",
            "Epoch 102/1000\n",
            "78/82 [===========================>..] - ETA: 0s - loss: 1.1795 - accuracy: 0.5984\n",
            "Epoch 102: saving model to model/keypoint_classifier/keypoint_classifier.hdf5\n",
            "82/82 [==============================] - 0s 3ms/step - loss: 1.1823 - accuracy: 0.5975 - val_loss: 0.6134 - val_accuracy: 0.8474\n",
            "Epoch 103/1000\n",
            "57/82 [===================>..........] - ETA: 0s - loss: 1.1633 - accuracy: 0.6033\n",
            "Epoch 103: saving model to model/keypoint_classifier/keypoint_classifier.hdf5\n",
            "82/82 [==============================] - 0s 3ms/step - loss: 1.1623 - accuracy: 0.6027 - val_loss: 0.6040 - val_accuracy: 0.8652\n",
            "Epoch 104/1000\n",
            "57/82 [===================>..........] - ETA: 0s - loss: 1.1576 - accuracy: 0.6069\n",
            "Epoch 104: saving model to model/keypoint_classifier/keypoint_classifier.hdf5\n",
            "82/82 [==============================] - 0s 3ms/step - loss: 1.1743 - accuracy: 0.6009 - val_loss: 0.6075 - val_accuracy: 0.8508\n",
            "Epoch 105/1000\n",
            "68/82 [=======================>......] - ETA: 0s - loss: 1.1677 - accuracy: 0.6029\n",
            "Epoch 105: saving model to model/keypoint_classifier/keypoint_classifier.hdf5\n",
            "82/82 [==============================] - 0s 3ms/step - loss: 1.1731 - accuracy: 0.6000 - val_loss: 0.6095 - val_accuracy: 0.8646\n",
            "Epoch 106/1000\n",
            "80/82 [============================>.] - ETA: 0s - loss: 1.1666 - accuracy: 0.5989\n",
            "Epoch 106: saving model to model/keypoint_classifier/keypoint_classifier.hdf5\n",
            "82/82 [==============================] - 0s 3ms/step - loss: 1.1664 - accuracy: 0.5990 - val_loss: 0.5943 - val_accuracy: 0.8499\n",
            "Epoch 107/1000\n",
            "55/82 [===================>..........] - ETA: 0s - loss: 1.1492 - accuracy: 0.6099\n",
            "Epoch 107: saving model to model/keypoint_classifier/keypoint_classifier.hdf5\n",
            "82/82 [==============================] - 0s 3ms/step - loss: 1.1604 - accuracy: 0.6052 - val_loss: 0.6070 - val_accuracy: 0.8502\n",
            "Epoch 108/1000\n",
            "81/82 [============================>.] - ETA: 0s - loss: 1.1637 - accuracy: 0.6076\n",
            "Epoch 108: saving model to model/keypoint_classifier/keypoint_classifier.hdf5\n",
            "82/82 [==============================] - 0s 3ms/step - loss: 1.1641 - accuracy: 0.6074 - val_loss: 0.5936 - val_accuracy: 0.8341\n",
            "Epoch 109/1000\n",
            "77/82 [===========================>..] - ETA: 0s - loss: 1.1577 - accuracy: 0.6052\n",
            "Epoch 109: saving model to model/keypoint_classifier/keypoint_classifier.hdf5\n",
            "82/82 [==============================] - 0s 3ms/step - loss: 1.1604 - accuracy: 0.6045 - val_loss: 0.6068 - val_accuracy: 0.8641\n",
            "Epoch 110/1000\n",
            "78/82 [===========================>..] - ETA: 0s - loss: 1.1704 - accuracy: 0.6034\n",
            "Epoch 110: saving model to model/keypoint_classifier/keypoint_classifier.hdf5\n",
            "82/82 [==============================] - 0s 3ms/step - loss: 1.1718 - accuracy: 0.6025 - val_loss: 0.5951 - val_accuracy: 0.8635\n",
            "Epoch 111/1000\n",
            "58/82 [====================>.........] - ETA: 0s - loss: 1.1703 - accuracy: 0.5963\n",
            "Epoch 111: saving model to model/keypoint_classifier/keypoint_classifier.hdf5\n",
            "82/82 [==============================] - 0s 3ms/step - loss: 1.1589 - accuracy: 0.6051 - val_loss: 0.6047 - val_accuracy: 0.8465\n",
            "Epoch 112/1000\n",
            "58/82 [====================>.........] - ETA: 0s - loss: 1.1586 - accuracy: 0.5955\n",
            "Epoch 112: saving model to model/keypoint_classifier/keypoint_classifier.hdf5\n",
            "82/82 [==============================] - 0s 3ms/step - loss: 1.1640 - accuracy: 0.5985 - val_loss: 0.6032 - val_accuracy: 0.8612\n",
            "Epoch 113/1000\n",
            "71/82 [========================>.....] - ETA: 0s - loss: 1.1342 - accuracy: 0.6077\n",
            "Epoch 113: saving model to model/keypoint_classifier/keypoint_classifier.hdf5\n",
            "82/82 [==============================] - 0s 3ms/step - loss: 1.1499 - accuracy: 0.6041 - val_loss: 0.5961 - val_accuracy: 0.8623\n",
            "Epoch 114/1000\n",
            "57/82 [===================>..........] - ETA: 0s - loss: 1.1495 - accuracy: 0.6043\n",
            "Epoch 114: saving model to model/keypoint_classifier/keypoint_classifier.hdf5\n",
            "82/82 [==============================] - 0s 3ms/step - loss: 1.1646 - accuracy: 0.5984 - val_loss: 0.5966 - val_accuracy: 0.8626\n",
            "Epoch 115/1000\n",
            "59/82 [====================>.........] - ETA: 0s - loss: 1.1584 - accuracy: 0.6087\n",
            "Epoch 115: saving model to model/keypoint_classifier/keypoint_classifier.hdf5\n",
            "82/82 [==============================] - 0s 3ms/step - loss: 1.1545 - accuracy: 0.6081 - val_loss: 0.5880 - val_accuracy: 0.8713\n",
            "Epoch 116/1000\n",
            "81/82 [============================>.] - ETA: 0s - loss: 1.1727 - accuracy: 0.6012\n",
            "Epoch 116: saving model to model/keypoint_classifier/keypoint_classifier.hdf5\n",
            "82/82 [==============================] - 0s 3ms/step - loss: 1.1712 - accuracy: 0.6017 - val_loss: 0.5949 - val_accuracy: 0.8387\n",
            "Epoch 117/1000\n",
            "72/82 [=========================>....] - ETA: 0s - loss: 1.1484 - accuracy: 0.6115\n",
            "Epoch 117: saving model to model/keypoint_classifier/keypoint_classifier.hdf5\n",
            "82/82 [==============================] - 0s 3ms/step - loss: 1.1551 - accuracy: 0.6088 - val_loss: 0.6067 - val_accuracy: 0.8321\n",
            "Epoch 118/1000\n",
            "57/82 [===================>..........] - ETA: 0s - loss: 1.1544 - accuracy: 0.6022\n",
            "Epoch 118: saving model to model/keypoint_classifier/keypoint_classifier.hdf5\n",
            "82/82 [==============================] - 0s 3ms/step - loss: 1.1558 - accuracy: 0.6032 - val_loss: 0.5938 - val_accuracy: 0.8638\n",
            "Epoch 119/1000\n",
            "81/82 [============================>.] - ETA: 0s - loss: 1.1304 - accuracy: 0.6108\n",
            "Epoch 119: saving model to model/keypoint_classifier/keypoint_classifier.hdf5\n",
            "82/82 [==============================] - 0s 3ms/step - loss: 1.1304 - accuracy: 0.6104 - val_loss: 0.5807 - val_accuracy: 0.8594\n",
            "Epoch 120/1000\n",
            "57/82 [===================>..........] - ETA: 0s - loss: 1.1306 - accuracy: 0.6077\n",
            "Epoch 120: saving model to model/keypoint_classifier/keypoint_classifier.hdf5\n",
            "82/82 [==============================] - 0s 3ms/step - loss: 1.1458 - accuracy: 0.6046 - val_loss: 0.5874 - val_accuracy: 0.8430\n",
            "Epoch 121/1000\n",
            "75/82 [==========================>...] - ETA: 0s - loss: 1.1459 - accuracy: 0.6041\n",
            "Epoch 121: saving model to model/keypoint_classifier/keypoint_classifier.hdf5\n",
            "82/82 [==============================] - 0s 3ms/step - loss: 1.1480 - accuracy: 0.6028 - val_loss: 0.5941 - val_accuracy: 0.8560\n",
            "Epoch 122/1000\n",
            "57/82 [===================>..........] - ETA: 0s - loss: 1.1465 - accuracy: 0.6036\n",
            "Epoch 122: saving model to model/keypoint_classifier/keypoint_classifier.hdf5\n",
            "82/82 [==============================] - 0s 3ms/step - loss: 1.1416 - accuracy: 0.6055 - val_loss: 0.5874 - val_accuracy: 0.8557\n",
            "Epoch 123/1000\n",
            "82/82 [==============================] - ETA: 0s - loss: 1.1355 - accuracy: 0.6075\n",
            "Epoch 123: saving model to model/keypoint_classifier/keypoint_classifier.hdf5\n",
            "82/82 [==============================] - 0s 3ms/step - loss: 1.1355 - accuracy: 0.6075 - val_loss: 0.5804 - val_accuracy: 0.8548\n",
            "Epoch 124/1000\n",
            "57/82 [===================>..........] - ETA: 0s - loss: 1.1287 - accuracy: 0.6140\n",
            "Epoch 124: saving model to model/keypoint_classifier/keypoint_classifier.hdf5\n",
            "82/82 [==============================] - 0s 3ms/step - loss: 1.1366 - accuracy: 0.6160 - val_loss: 0.5870 - val_accuracy: 0.8546\n",
            "Epoch 125/1000\n",
            "71/82 [========================>.....] - ETA: 0s - loss: 1.1466 - accuracy: 0.6099\n",
            "Epoch 125: saving model to model/keypoint_classifier/keypoint_classifier.hdf5\n",
            "82/82 [==============================] - 0s 3ms/step - loss: 1.1437 - accuracy: 0.6123 - val_loss: 0.5930 - val_accuracy: 0.8520\n",
            "Epoch 126/1000\n",
            "56/82 [===================>..........] - ETA: 0s - loss: 1.1407 - accuracy: 0.6122\n",
            "Epoch 126: saving model to model/keypoint_classifier/keypoint_classifier.hdf5\n",
            "82/82 [==============================] - 0s 3ms/step - loss: 1.1476 - accuracy: 0.6076 - val_loss: 0.5936 - val_accuracy: 0.8540\n",
            "Epoch 127/1000\n",
            "78/82 [===========================>..] - ETA: 0s - loss: 1.1389 - accuracy: 0.6064\n",
            "Epoch 127: saving model to model/keypoint_classifier/keypoint_classifier.hdf5\n",
            "82/82 [==============================] - 0s 3ms/step - loss: 1.1399 - accuracy: 0.6070 - val_loss: 0.5899 - val_accuracy: 0.8574\n",
            "Epoch 128/1000\n",
            "56/82 [===================>..........] - ETA: 0s - loss: 1.1137 - accuracy: 0.6141\n",
            "Epoch 128: saving model to model/keypoint_classifier/keypoint_classifier.hdf5\n",
            "82/82 [==============================] - 0s 3ms/step - loss: 1.1177 - accuracy: 0.6139 - val_loss: 0.5913 - val_accuracy: 0.8597\n",
            "Epoch 129/1000\n",
            "69/82 [========================>.....] - ETA: 0s - loss: 1.1268 - accuracy: 0.6136\n",
            "Epoch 129: saving model to model/keypoint_classifier/keypoint_classifier.hdf5\n",
            "82/82 [==============================] - 0s 3ms/step - loss: 1.1248 - accuracy: 0.6144 - val_loss: 0.5813 - val_accuracy: 0.8606\n",
            "Epoch 130/1000\n",
            "81/82 [============================>.] - ETA: 0s - loss: 1.1227 - accuracy: 0.6148\n",
            "Epoch 130: saving model to model/keypoint_classifier/keypoint_classifier.hdf5\n",
            "82/82 [==============================] - 0s 3ms/step - loss: 1.1243 - accuracy: 0.6140 - val_loss: 0.5815 - val_accuracy: 0.8474\n",
            "Epoch 131/1000\n",
            "75/82 [==========================>...] - ETA: 0s - loss: 1.1373 - accuracy: 0.6071\n",
            "Epoch 131: saving model to model/keypoint_classifier/keypoint_classifier.hdf5\n",
            "82/82 [==============================] - 0s 3ms/step - loss: 1.1306 - accuracy: 0.6094 - val_loss: 0.5978 - val_accuracy: 0.8566\n",
            "Epoch 132/1000\n",
            "82/82 [==============================] - ETA: 0s - loss: 1.1177 - accuracy: 0.6139\n",
            "Epoch 132: saving model to model/keypoint_classifier/keypoint_classifier.hdf5\n",
            "82/82 [==============================] - 0s 3ms/step - loss: 1.1177 - accuracy: 0.6139 - val_loss: 0.5792 - val_accuracy: 0.8404\n",
            "Epoch 133/1000\n",
            "67/82 [=======================>......] - ETA: 0s - loss: 1.1247 - accuracy: 0.6172\n",
            "Epoch 133: saving model to model/keypoint_classifier/keypoint_classifier.hdf5\n",
            "82/82 [==============================] - 0s 3ms/step - loss: 1.1247 - accuracy: 0.6176 - val_loss: 0.5800 - val_accuracy: 0.8666\n",
            "Epoch 134/1000\n",
            "56/82 [===================>..........] - ETA: 0s - loss: 1.1229 - accuracy: 0.6154\n",
            "Epoch 134: saving model to model/keypoint_classifier/keypoint_classifier.hdf5\n",
            "82/82 [==============================] - 0s 3ms/step - loss: 1.1298 - accuracy: 0.6139 - val_loss: 0.5872 - val_accuracy: 0.8629\n",
            "Epoch 135/1000\n",
            "78/82 [===========================>..] - ETA: 0s - loss: 1.1181 - accuracy: 0.6101\n",
            "Epoch 135: saving model to model/keypoint_classifier/keypoint_classifier.hdf5\n",
            "82/82 [==============================] - 0s 3ms/step - loss: 1.1152 - accuracy: 0.6112 - val_loss: 0.5824 - val_accuracy: 0.8664\n",
            "Epoch 136/1000\n",
            "80/82 [============================>.] - ETA: 0s - loss: 1.1145 - accuracy: 0.6163\n",
            "Epoch 136: saving model to model/keypoint_classifier/keypoint_classifier.hdf5\n",
            "82/82 [==============================] - 0s 3ms/step - loss: 1.1154 - accuracy: 0.6155 - val_loss: 0.5826 - val_accuracy: 0.8497\n",
            "Epoch 137/1000\n",
            "68/82 [=======================>......] - ETA: 0s - loss: 1.1043 - accuracy: 0.6210\n",
            "Epoch 137: saving model to model/keypoint_classifier/keypoint_classifier.hdf5\n",
            "82/82 [==============================] - 0s 3ms/step - loss: 1.1083 - accuracy: 0.6201 - val_loss: 0.5754 - val_accuracy: 0.8678\n",
            "Epoch 138/1000\n",
            "76/82 [==========================>...] - ETA: 0s - loss: 1.1016 - accuracy: 0.6213\n",
            "Epoch 138: saving model to model/keypoint_classifier/keypoint_classifier.hdf5\n",
            "82/82 [==============================] - 0s 4ms/step - loss: 1.1018 - accuracy: 0.6217 - val_loss: 0.5725 - val_accuracy: 0.8580\n",
            "Epoch 139/1000\n",
            "74/82 [==========================>...] - ETA: 0s - loss: 1.1152 - accuracy: 0.6198\n",
            "Epoch 139: saving model to model/keypoint_classifier/keypoint_classifier.hdf5\n",
            "82/82 [==============================] - 0s 4ms/step - loss: 1.1123 - accuracy: 0.6196 - val_loss: 0.5779 - val_accuracy: 0.8574\n",
            "Epoch 140/1000\n",
            "73/82 [=========================>....] - ETA: 0s - loss: 1.1179 - accuracy: 0.6133\n",
            "Epoch 140: saving model to model/keypoint_classifier/keypoint_classifier.hdf5\n",
            "82/82 [==============================] - 0s 4ms/step - loss: 1.1213 - accuracy: 0.6133 - val_loss: 0.5898 - val_accuracy: 0.8615\n",
            "Epoch 141/1000\n",
            "63/82 [======================>.......] - ETA: 0s - loss: 1.1249 - accuracy: 0.6124\n",
            "Epoch 141: saving model to model/keypoint_classifier/keypoint_classifier.hdf5\n",
            "82/82 [==============================] - 0s 4ms/step - loss: 1.1269 - accuracy: 0.6094 - val_loss: 0.5917 - val_accuracy: 0.8589\n",
            "Epoch 142/1000\n",
            "67/82 [=======================>......] - ETA: 0s - loss: 1.1048 - accuracy: 0.6166\n",
            "Epoch 142: saving model to model/keypoint_classifier/keypoint_classifier.hdf5\n",
            "82/82 [==============================] - 0s 4ms/step - loss: 1.1103 - accuracy: 0.6157 - val_loss: 0.5736 - val_accuracy: 0.8675\n",
            "Epoch 143/1000\n",
            "67/82 [=======================>......] - ETA: 0s - loss: 1.1070 - accuracy: 0.6206\n",
            "Epoch 143: saving model to model/keypoint_classifier/keypoint_classifier.hdf5\n",
            "82/82 [==============================] - 0s 4ms/step - loss: 1.1209 - accuracy: 0.6170 - val_loss: 0.5787 - val_accuracy: 0.8597\n",
            "Epoch 144/1000\n",
            "74/82 [==========================>...] - ETA: 0s - loss: 1.1033 - accuracy: 0.6214\n",
            "Epoch 144: saving model to model/keypoint_classifier/keypoint_classifier.hdf5\n",
            "82/82 [==============================] - 0s 4ms/step - loss: 1.1055 - accuracy: 0.6201 - val_loss: 0.5901 - val_accuracy: 0.8594\n",
            "Epoch 145/1000\n",
            "71/82 [========================>.....] - ETA: 0s - loss: 1.1031 - accuracy: 0.6171\n",
            "Epoch 145: saving model to model/keypoint_classifier/keypoint_classifier.hdf5\n",
            "82/82 [==============================] - 0s 4ms/step - loss: 1.0997 - accuracy: 0.6200 - val_loss: 0.5850 - val_accuracy: 0.8422\n",
            "Epoch 146/1000\n",
            "82/82 [==============================] - ETA: 0s - loss: 1.0986 - accuracy: 0.6219\n",
            "Epoch 146: saving model to model/keypoint_classifier/keypoint_classifier.hdf5\n",
            "82/82 [==============================] - 0s 5ms/step - loss: 1.0986 - accuracy: 0.6219 - val_loss: 0.5734 - val_accuracy: 0.8773\n",
            "Epoch 147/1000\n",
            "75/82 [==========================>...] - ETA: 0s - loss: 1.1132 - accuracy: 0.6158\n",
            "Epoch 147: saving model to model/keypoint_classifier/keypoint_classifier.hdf5\n",
            "82/82 [==============================] - 0s 4ms/step - loss: 1.1101 - accuracy: 0.6164 - val_loss: 0.5760 - val_accuracy: 0.8672\n",
            "Epoch 148/1000\n",
            "73/82 [=========================>....] - ETA: 0s - loss: 1.1191 - accuracy: 0.6130\n",
            "Epoch 148: saving model to model/keypoint_classifier/keypoint_classifier.hdf5\n",
            "82/82 [==============================] - 0s 4ms/step - loss: 1.1262 - accuracy: 0.6118 - val_loss: 0.5745 - val_accuracy: 0.8563\n",
            "Epoch 149/1000\n",
            "58/82 [====================>.........] - ETA: 0s - loss: 1.1226 - accuracy: 0.6152\n",
            "Epoch 149: saving model to model/keypoint_classifier/keypoint_classifier.hdf5\n",
            "82/82 [==============================] - 0s 4ms/step - loss: 1.1176 - accuracy: 0.6127 - val_loss: 0.5799 - val_accuracy: 0.8687\n",
            "Epoch 150/1000\n",
            "54/82 [==================>...........] - ETA: 0s - loss: 1.0976 - accuracy: 0.6205\n",
            "Epoch 150: saving model to model/keypoint_classifier/keypoint_classifier.hdf5\n",
            "82/82 [==============================] - 0s 3ms/step - loss: 1.0958 - accuracy: 0.6238 - val_loss: 0.5715 - val_accuracy: 0.8678\n",
            "Epoch 151/1000\n",
            "58/82 [====================>.........] - ETA: 0s - loss: 1.0869 - accuracy: 0.6245\n",
            "Epoch 151: saving model to model/keypoint_classifier/keypoint_classifier.hdf5\n",
            "82/82 [==============================] - 0s 3ms/step - loss: 1.1003 - accuracy: 0.6196 - val_loss: 0.5748 - val_accuracy: 0.8551\n",
            "Epoch 152/1000\n",
            "71/82 [========================>.....] - ETA: 0s - loss: 1.0986 - accuracy: 0.6204\n",
            "Epoch 152: saving model to model/keypoint_classifier/keypoint_classifier.hdf5\n",
            "82/82 [==============================] - 0s 3ms/step - loss: 1.0988 - accuracy: 0.6194 - val_loss: 0.5650 - val_accuracy: 0.8787\n",
            "Epoch 153/1000\n",
            "56/82 [===================>..........] - ETA: 0s - loss: 1.0943 - accuracy: 0.6214\n",
            "Epoch 153: saving model to model/keypoint_classifier/keypoint_classifier.hdf5\n",
            "82/82 [==============================] - 0s 3ms/step - loss: 1.0995 - accuracy: 0.6195 - val_loss: 0.5619 - val_accuracy: 0.8557\n",
            "Epoch 154/1000\n",
            "82/82 [==============================] - ETA: 0s - loss: 1.0936 - accuracy: 0.6262\n",
            "Epoch 154: saving model to model/keypoint_classifier/keypoint_classifier.hdf5\n",
            "82/82 [==============================] - 0s 3ms/step - loss: 1.0936 - accuracy: 0.6262 - val_loss: 0.5743 - val_accuracy: 0.8557\n",
            "Epoch 155/1000\n",
            "57/82 [===================>..........] - ETA: 0s - loss: 1.1014 - accuracy: 0.6280\n",
            "Epoch 155: saving model to model/keypoint_classifier/keypoint_classifier.hdf5\n",
            "82/82 [==============================] - 0s 3ms/step - loss: 1.0974 - accuracy: 0.6281 - val_loss: 0.5682 - val_accuracy: 0.8707\n",
            "Epoch 156/1000\n",
            "76/82 [==========================>...] - ETA: 0s - loss: 1.0935 - accuracy: 0.6192\n",
            "Epoch 156: saving model to model/keypoint_classifier/keypoint_classifier.hdf5\n",
            "82/82 [==============================] - 0s 3ms/step - loss: 1.0971 - accuracy: 0.6179 - val_loss: 0.5839 - val_accuracy: 0.8476\n",
            "Epoch 157/1000\n",
            "80/82 [============================>.] - ETA: 0s - loss: 1.0995 - accuracy: 0.6192\n",
            "Epoch 157: saving model to model/keypoint_classifier/keypoint_classifier.hdf5\n",
            "82/82 [==============================] - 0s 3ms/step - loss: 1.0981 - accuracy: 0.6196 - val_loss: 0.5742 - val_accuracy: 0.8635\n",
            "Epoch 158/1000\n",
            "55/82 [===================>..........] - ETA: 0s - loss: 1.0964 - accuracy: 0.6236\n",
            "Epoch 158: saving model to model/keypoint_classifier/keypoint_classifier.hdf5\n",
            "82/82 [==============================] - 0s 3ms/step - loss: 1.0999 - accuracy: 0.6211 - val_loss: 0.5760 - val_accuracy: 0.8571\n",
            "Epoch 159/1000\n",
            "78/82 [===========================>..] - ETA: 0s - loss: 1.0938 - accuracy: 0.6216\n",
            "Epoch 159: saving model to model/keypoint_classifier/keypoint_classifier.hdf5\n",
            "82/82 [==============================] - 0s 3ms/step - loss: 1.0939 - accuracy: 0.6211 - val_loss: 0.5709 - val_accuracy: 0.8534\n",
            "Epoch 160/1000\n",
            "78/82 [===========================>..] - ETA: 0s - loss: 1.1026 - accuracy: 0.6221\n",
            "Epoch 160: saving model to model/keypoint_classifier/keypoint_classifier.hdf5\n",
            "82/82 [==============================] - 0s 3ms/step - loss: 1.1019 - accuracy: 0.6234 - val_loss: 0.5796 - val_accuracy: 0.8606\n",
            "Epoch 161/1000\n",
            "59/82 [====================>.........] - ETA: 0s - loss: 1.1129 - accuracy: 0.6212\n",
            "Epoch 161: saving model to model/keypoint_classifier/keypoint_classifier.hdf5\n",
            "82/82 [==============================] - 0s 3ms/step - loss: 1.1035 - accuracy: 0.6216 - val_loss: 0.5679 - val_accuracy: 0.8632\n",
            "Epoch 162/1000\n",
            "56/82 [===================>..........] - ETA: 0s - loss: 1.1099 - accuracy: 0.6204\n",
            "Epoch 162: saving model to model/keypoint_classifier/keypoint_classifier.hdf5\n",
            "82/82 [==============================] - 0s 3ms/step - loss: 1.0983 - accuracy: 0.6220 - val_loss: 0.5773 - val_accuracy: 0.8618\n",
            "Epoch 163/1000\n",
            "58/82 [====================>.........] - ETA: 0s - loss: 1.0932 - accuracy: 0.6220\n",
            "Epoch 163: saving model to model/keypoint_classifier/keypoint_classifier.hdf5\n",
            "82/82 [==============================] - 0s 3ms/step - loss: 1.0926 - accuracy: 0.6228 - val_loss: 0.5694 - val_accuracy: 0.8715\n",
            "Epoch 164/1000\n",
            "79/82 [===========================>..] - ETA: 0s - loss: 1.0905 - accuracy: 0.6208\n",
            "Epoch 164: saving model to model/keypoint_classifier/keypoint_classifier.hdf5\n",
            "82/82 [==============================] - 0s 3ms/step - loss: 1.0921 - accuracy: 0.6208 - val_loss: 0.5685 - val_accuracy: 0.8753\n",
            "Epoch 165/1000\n",
            "56/82 [===================>..........] - ETA: 0s - loss: 1.0566 - accuracy: 0.6314\n",
            "Epoch 165: saving model to model/keypoint_classifier/keypoint_classifier.hdf5\n",
            "82/82 [==============================] - 0s 3ms/step - loss: 1.0691 - accuracy: 0.6272 - val_loss: 0.5719 - val_accuracy: 0.8615\n",
            "Epoch 166/1000\n",
            "57/82 [===================>..........] - ETA: 0s - loss: 1.0936 - accuracy: 0.6210\n",
            "Epoch 166: saving model to model/keypoint_classifier/keypoint_classifier.hdf5\n",
            "82/82 [==============================] - 0s 3ms/step - loss: 1.0969 - accuracy: 0.6244 - val_loss: 0.5792 - val_accuracy: 0.8603\n",
            "Epoch 167/1000\n",
            "55/82 [===================>..........] - ETA: 0s - loss: 1.0901 - accuracy: 0.6233\n",
            "Epoch 167: saving model to model/keypoint_classifier/keypoint_classifier.hdf5\n",
            "82/82 [==============================] - 0s 3ms/step - loss: 1.0876 - accuracy: 0.6261 - val_loss: 0.5686 - val_accuracy: 0.8569\n",
            "Epoch 168/1000\n",
            "78/82 [===========================>..] - ETA: 0s - loss: 1.0697 - accuracy: 0.6369\n",
            "Epoch 168: saving model to model/keypoint_classifier/keypoint_classifier.hdf5\n",
            "82/82 [==============================] - 0s 3ms/step - loss: 1.0723 - accuracy: 0.6354 - val_loss: 0.5716 - val_accuracy: 0.8713\n",
            "Epoch 169/1000\n",
            "70/82 [========================>.....] - ETA: 0s - loss: 1.0831 - accuracy: 0.6219\n",
            "Epoch 169: saving model to model/keypoint_classifier/keypoint_classifier.hdf5\n",
            "82/82 [==============================] - 0s 3ms/step - loss: 1.0806 - accuracy: 0.6234 - val_loss: 0.5654 - val_accuracy: 0.8551\n",
            "Epoch 170/1000\n",
            "82/82 [==============================] - ETA: 0s - loss: 1.0771 - accuracy: 0.6302\n",
            "Epoch 170: saving model to model/keypoint_classifier/keypoint_classifier.hdf5\n",
            "82/82 [==============================] - 0s 3ms/step - loss: 1.0771 - accuracy: 0.6302 - val_loss: 0.5796 - val_accuracy: 0.8620\n",
            "Epoch 171/1000\n",
            "57/82 [===================>..........] - ETA: 0s - loss: 1.0816 - accuracy: 0.6242\n",
            "Epoch 171: saving model to model/keypoint_classifier/keypoint_classifier.hdf5\n",
            "82/82 [==============================] - 0s 3ms/step - loss: 1.0721 - accuracy: 0.6268 - val_loss: 0.5645 - val_accuracy: 0.8574\n",
            "Epoch 172/1000\n",
            "79/82 [===========================>..] - ETA: 0s - loss: 1.0814 - accuracy: 0.6326\n",
            "Epoch 172: saving model to model/keypoint_classifier/keypoint_classifier.hdf5\n",
            "82/82 [==============================] - 0s 3ms/step - loss: 1.0814 - accuracy: 0.6306 - val_loss: 0.5715 - val_accuracy: 0.8609\n",
            "Epoch 173/1000\n",
            "78/82 [===========================>..] - ETA: 0s - loss: 1.0691 - accuracy: 0.6304\n",
            "Epoch 173: saving model to model/keypoint_classifier/keypoint_classifier.hdf5\n",
            "82/82 [==============================] - 0s 3ms/step - loss: 1.0698 - accuracy: 0.6304 - val_loss: 0.5663 - val_accuracy: 0.8675\n",
            "Epoch 173: early stopping\n"
          ]
        },
        {
          "output_type": "execute_result",
          "data": {
            "text/plain": [
              "<keras.callbacks.History at 0x7cdc6e6c6020>"
            ]
          },
          "metadata": {},
          "execution_count": 13
        }
      ]
    },
    {
      "cell_type": "code",
      "metadata": {
        "id": "pxvb2Y299hE3",
        "colab": {
          "base_uri": "https://localhost:8080/"
        },
        "outputId": "f77bcdcd-0eaa-4dff-ffeb-4242e7ee5244"
      },
      "source": [
        "# Model evaluation\n",
        "val_loss, val_acc = model.evaluate(X_test, y_test, batch_size=128)"
      ],
      "execution_count": 14,
      "outputs": [
        {
          "output_type": "stream",
          "name": "stdout",
          "text": [
            "28/28 [==============================] - 0s 1ms/step - loss: 0.5663 - accuracy: 0.8675\n"
          ]
        }
      ]
    },
    {
      "cell_type": "code",
      "metadata": {
        "id": "RBkmDeUW9hE4"
      },
      "source": [
        "# Loading the saved model\n",
        "model = tf.keras.models.load_model(model_save_path)"
      ],
      "execution_count": 15,
      "outputs": []
    },
    {
      "cell_type": "code",
      "metadata": {
        "id": "tFz9Tb0I9hE4",
        "colab": {
          "base_uri": "https://localhost:8080/"
        },
        "outputId": "e553e8e0-1e8e-4588-ed21-3dfe717223f8"
      },
      "source": [
        "# Inference test\n",
        "predict_result = model.predict(np.array([X_test[0]]))\n",
        "print(np.squeeze(predict_result))\n",
        "print(np.argmax(np.squeeze(predict_result)))"
      ],
      "execution_count": 16,
      "outputs": [
        {
          "output_type": "stream",
          "name": "stdout",
          "text": [
            "1/1 [==============================] - 0s 68ms/step\n",
            "[9.0757811e-11 1.0365754e-18 2.6591823e-03 7.0490314e-06 1.2933111e-06\n",
            " 3.1556281e-27 2.0829996e-03 7.3940784e-01 4.9898862e-08 2.3431566e-02\n",
            " 3.0471365e-21 3.8554899e-07 1.4421590e-04 2.4327163e-15 6.8616509e-03\n",
            " 3.8827548e-04 3.1470011e-03 5.4234307e-04 6.6631428e-13 1.0016453e-01\n",
            " 2.6453071e-22 3.2460586e-30 1.2132857e-18 1.2116167e-01 4.1920487e-24\n",
            " 2.5647542e-12]\n",
            "7\n"
          ]
        }
      ]
    },
    {
      "cell_type": "markdown",
      "metadata": {
        "id": "S3U4yNWx9hE4"
      },
      "source": [
        "# Confusion matrix"
      ]
    },
    {
      "cell_type": "code",
      "metadata": {
        "id": "AP1V6SCk9hE5",
        "colab": {
          "base_uri": "https://localhost:8080/",
          "height": 1000
        },
        "outputId": "680098e6-dcc6-4990-a57e-93a57f1105b9"
      },
      "source": [
        "import pandas as pd\n",
        "import seaborn as sns\n",
        "import matplotlib.pyplot as plt\n",
        "from sklearn.metrics import confusion_matrix, classification_report\n",
        "\n",
        "def print_confusion_matrix(y_true, y_pred, report=True):\n",
        "    labels = sorted(list(set(y_true)))\n",
        "    cmx_data = confusion_matrix(y_true, y_pred, labels=labels)\n",
        "\n",
        "    df_cmx = pd.DataFrame(cmx_data, index=labels, columns=labels)\n",
        "\n",
        "    fig, ax = plt.subplots(figsize=(7, 6))\n",
        "    sns.heatmap(df_cmx, annot=True, fmt='g' ,square=False)\n",
        "    ax.set_ylim(len(set(y_true)), 0)\n",
        "    plt.show()\n",
        "\n",
        "    if report:\n",
        "        print('Classification Report')\n",
        "        print(classification_report(y_test, y_pred))\n",
        "\n",
        "Y_pred = model.predict(X_test)\n",
        "y_pred = np.argmax(Y_pred, axis=1)\n",
        "\n",
        "print_confusion_matrix(y_test, y_pred)"
      ],
      "execution_count": 17,
      "outputs": [
        {
          "output_type": "stream",
          "name": "stdout",
          "text": [
            "109/109 [==============================] - 0s 2ms/step\n"
          ]
        },
        {
          "output_type": "display_data",
          "data": {
            "text/plain": [
              "<Figure size 700x600 with 2 Axes>"
            ],
            "image/png": "[encoded data removed]"
          },
          "metadata": {}
        },
        {
          "output_type": "stream",
          "name": "stdout",
          "text": [
            "Classification Report\n",
            "              precision    recall  f1-score   support\n",
            "\n",
            "           0       0.97      1.00      0.98       160\n",
            "           1       0.68      0.77      0.72       235\n",
            "           2       0.80      0.89      0.84       171\n",
            "           3       1.00      0.91      0.95       209\n",
            "           4       0.99      0.73      0.84       222\n",
            "           5       0.63      0.98      0.76       214\n",
            "           6       0.95      0.88      0.91       152\n",
            "           7       0.97      0.98      0.97       294\n",
            "           8       0.84      0.98      0.91       258\n",
            "           9       0.86      0.73      0.79       198\n",
            "          10       0.63      1.00      0.77       106\n",
            "          11       0.79      0.95      0.86       130\n",
            "          12       0.99      0.99      0.99       187\n",
            "          13       0.99      0.99      0.99       140\n",
            "          14       1.00      0.46      0.63        70\n",
            "          15       0.99      0.99      0.99       177\n",
            "          16       0.98      1.00      0.99        50\n",
            "          17       0.98      0.83      0.90        98\n",
            "          18       0.98      1.00      0.99        46\n",
            "          19       0.89      1.00      0.94        63\n",
            "          20       0.00      0.00      0.00        31\n",
            "          21       0.97      0.55      0.70        58\n",
            "          22       0.00      0.00      0.00        57\n",
            "          23       0.99      1.00      0.99        81\n",
            "          24       0.88      0.50      0.64        44\n",
            "          25       0.00      0.00      0.00        21\n",
            "\n",
            "    accuracy                           0.87      3472\n",
            "   macro avg       0.80      0.77      0.77      3472\n",
            "weighted avg       0.86      0.87      0.85      3472\n",
            "\n"
          ]
        },
        {
          "output_type": "stream",
          "name": "stderr",
          "text": [
            "/usr/local/lib/python3.10/dist-packages/sklearn/metrics/_classification.py:1531: UndefinedMetricWarning: Precision is ill-defined and being set to 0.0 in labels with no predicted samples. Use `zero_division` parameter to control this behavior.\n",
            "  _warn_prf(average, modifier, f\"{metric.capitalize()} is\", len(result))\n",
            "/usr/local/lib/python3.10/dist-packages/sklearn/metrics/_classification.py:1531: UndefinedMetricWarning: Precision is ill-defined and being set to 0.0 in labels with no predicted samples. Use `zero_division` parameter to control this behavior.\n",
            "  _warn_prf(average, modifier, f\"{metric.capitalize()} is\", len(result))\n",
            "/usr/local/lib/python3.10/dist-packages/sklearn/metrics/_classification.py:1531: UndefinedMetricWarning: Precision is ill-defined and being set to 0.0 in labels with no predicted samples. Use `zero_division` parameter to control this behavior.\n",
            "  _warn_prf(average, modifier, f\"{metric.capitalize()} is\", len(result))\n"
          ]
        }
      ]
    },
    {
      "cell_type": "markdown",
      "metadata": {
        "id": "FNP6aqzc9hE5"
      },
      "source": [
        "# Convert to model for Tensorflow-Lite"
      ]
    },
    {
      "cell_type": "code",
      "metadata": {
        "id": "ODjnYyld9hE6"
      },
      "source": [
        "# Save as a model dedicated to inference\n",
        "model.save(model_save_path, include_optimizer=False)"
      ],
      "execution_count": 18,
      "outputs": []
    },
    {
      "cell_type": "code",
      "metadata": {
        "id": "zRfuK8Y59hE6",
        "colab": {
          "base_uri": "https://localhost:8080/"
        },
        "outputId": "58c9c21c-7c0f-4c9f-aaf1-c2b69ec1954d"
      },
      "source": [
        "# Transform model (quantization)\n",
        "\n",
        "converter = tf.lite.TFLiteConverter.from_keras_model(model)\n",
        "converter.optimizations = [tf.lite.Optimize.DEFAULT]\n",
        "tflite_quantized_model = converter.convert()\n",
        "\n",
        "open(tflite_save_path, 'wb').write(tflite_quantized_model)"
      ],
      "execution_count": 19,
      "outputs": [
        {
          "output_type": "execute_result",
          "data": {
            "text/plain": [
              "7456"
            ]
          },
          "metadata": {},
          "execution_count": 19
        }
      ]
    },
    {
      "cell_type": "markdown",
      "metadata": {
        "id": "CHBPBXdx9hE6"
      },
      "source": [
        "# Inference test"
      ]
    },
    {
      "cell_type": "code",
      "metadata": {
        "id": "mGAzLocO9hE7"
      },
      "source": [
        "interpreter = tf.lite.Interpreter(model_path=tflite_save_path)\n",
        "interpreter.allocate_tensors()"
      ],
      "execution_count": 20,
      "outputs": []
    },
    {
      "cell_type": "code",
      "metadata": {
        "id": "oQuDK8YS9hE7"
      },
      "source": [
        "# Get I / O tensor\n",
        "input_details = interpreter.get_input_details()\n",
        "output_details = interpreter.get_output_details()"
      ],
      "execution_count": 21,
      "outputs": []
    },
    {
      "cell_type": "code",
      "metadata": {
        "id": "2_ixAf_l9hE7"
      },
      "source": [
        "interpreter.set_tensor(input_details[0]['index'], np.array([X_test[0]]))"
      ],
      "execution_count": 22,
      "outputs": []
    },
    {
      "cell_type": "code",
      "metadata": {
        "scrolled": true,
        "id": "s4FoAnuc9hE7",
        "colab": {
          "base_uri": "https://localhost:8080/"
        },
        "outputId": "7a95233c-4cd8-424b-c593-06a26893c084"
      },
      "source": [
        "%%time\n",
        "# Inference implementation\n",
        "interpreter.invoke()\n",
        "tflite_results = interpreter.get_tensor(output_details[0]['index'])"
      ],
      "execution_count": 23,
      "outputs": [
        {
          "output_type": "stream",
          "name": "stdout",
          "text": [
            "CPU times: user 751 µs, sys: 0 ns, total: 751 µs\n",
            "Wall time: 4.88 ms\n"
          ]
        }
      ]
    },
    {
      "cell_type": "code",
      "metadata": {
        "id": "vONjp19J9hE8",
        "colab": {
          "base_uri": "https://localhost:8080/"
        },
        "outputId": "a2f3c9ad-d994-458f-e5e5-8a86a03da5be"
      },
      "source": [
        "print(np.squeeze(tflite_results))\n",
        "print(np.argmax(np.squeeze(tflite_results)))"
      ],
      "execution_count": 24,
      "outputs": [
        {
          "output_type": "stream",
          "name": "stdout",
          "text": [
            "[9.07583314e-11 1.03656753e-18 2.65918882e-03 7.04899867e-06\n",
            " 1.29330999e-06 3.15562909e-27 2.08299770e-03 7.39407897e-01\n",
            " 4.98988548e-08 2.34315675e-02 3.04711345e-21 3.85547509e-07\n",
            " 1.44216159e-04 2.43271653e-15 6.86164713e-03 3.88275628e-04\n",
            " 3.14699812e-03 5.42342372e-04 6.66314334e-13 1.00164525e-01\n",
            " 2.64528689e-22 3.24605900e-30 1.21328578e-18 1.21161565e-01\n",
            " 4.19201671e-24 2.56475440e-12]\n",
            "7\n"
          ]
        }
      ]
    }
  ]
}